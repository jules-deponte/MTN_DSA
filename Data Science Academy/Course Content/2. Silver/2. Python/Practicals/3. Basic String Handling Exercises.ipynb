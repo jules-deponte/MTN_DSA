{
 "cells": [
  {
   "cell_type": "markdown",
   "metadata": {},
   "source": [
    "# Exercises\n",
    "\n",
    "Answer all questions below or complete the given instructions"
   ]
  },
  {
   "cell_type": "markdown",
   "metadata": {},
   "source": [
    "##### Given the string below, slice out the word 'Steven'"
   ]
  },
  {
   "cell_type": "code",
   "execution_count": 2,
   "metadata": {},
   "outputs": [],
   "source": [
    "s = 'Good morning Steven'"
   ]
  },
  {
   "cell_type": "code",
   "execution_count": null,
   "metadata": {},
   "outputs": [],
   "source": []
  },
  {
   "cell_type": "markdown",
   "metadata": {},
   "source": [
    "##### Given string above named 's' convert all letters to uppercase"
   ]
  },
  {
   "cell_type": "code",
   "execution_count": null,
   "metadata": {},
   "outputs": [],
   "source": []
  },
  {
   "cell_type": "markdown",
   "metadata": {},
   "source": [
    "##### Given the string below, split the string out on the blank spaces"
   ]
  },
  {
   "cell_type": "code",
   "execution_count": 3,
   "metadata": {},
   "outputs": [],
   "source": [
    "tweet = \"Go Springboks! #Worldcup2019\""
   ]
  },
  {
   "cell_type": "code",
   "execution_count": null,
   "metadata": {},
   "outputs": [],
   "source": []
  },
  {
   "cell_type": "markdown",
   "metadata": {},
   "source": [
    "##### Using the 'tweet' string above, split the string on the # and select out the word 'Worldcup2019'"
   ]
  },
  {
   "cell_type": "code",
   "execution_count": 12,
   "metadata": {},
   "outputs": [],
   "source": []
  },
  {
   "cell_type": "markdown",
   "metadata": {},
   "source": [
    "##### Given the text file 'Top10TechCompanies.txt' open the file in r+ and read all lines\n",
    "\n",
    "Below the cell is an example of what your output should look like if you complete the task successfully"
   ]
  },
  {
   "cell_type": "code",
   "execution_count": 45,
   "metadata": {},
   "outputs": [],
   "source": []
  },
  {
   "cell_type": "code",
   "execution_count": 46,
   "metadata": {},
   "outputs": [
    {
     "data": {
      "text/plain": [
       "['Company,MarketValue\\n',\n",
       " 'Apple,963.33\\n',\n",
       " 'Samsung,221.6\\n',\n",
       " 'Microsoft,995.324\\n',\n",
       " 'Alphabet,885.97\\n',\n",
       " 'Intel,234.73\\n',\n",
       " 'IBM,124.08\\n',\n",
       " 'Facebook,546.606\\n',\n",
       " 'Hon Hai Precision,6023.96\\n',\n",
       " 'Tencent,462.116\\n',\n",
       " 'Oracle,189.37\\n']"
      ]
     },
     "execution_count": 46,
     "metadata": {},
     "output_type": "execute_result"
    }
   ],
   "source": []
  },
  {
   "cell_type": "markdown",
   "metadata": {},
   "source": [
    "##### Given the string below named 'amazon', write this string to the 'Top10TechCompanies' text file"
   ]
  },
  {
   "cell_type": "code",
   "execution_count": 35,
   "metadata": {},
   "outputs": [],
   "source": [
    "amazon = 'Amazon,134.5'"
   ]
  },
  {
   "cell_type": "code",
   "execution_count": null,
   "metadata": {},
   "outputs": [],
   "source": []
  },
  {
   "cell_type": "markdown",
   "metadata": {},
   "source": [
    "##### Close the text file"
   ]
  },
  {
   "cell_type": "markdown",
   "metadata": {},
   "source": [
    "##### Open the text file 'Top10TechCompanies' again in read only mode and read all line\n",
    "\n",
    "If you completed the writing successfully your output should look similiar to the one below"
   ]
  },
  {
   "cell_type": "code",
   "execution_count": 48,
   "metadata": {},
   "outputs": [],
   "source": []
  },
  {
   "cell_type": "code",
   "execution_count": 49,
   "metadata": {},
   "outputs": [
    {
     "data": {
      "text/plain": [
       "['Company,MarketValue\\n',\n",
       " 'Apple,963.33\\n',\n",
       " 'Samsung,221.6\\n',\n",
       " 'Microsoft,995.324\\n',\n",
       " 'Alphabet,885.97\\n',\n",
       " 'Intel,234.73\\n',\n",
       " 'IBM,124.08\\n',\n",
       " 'Facebook,546.606\\n',\n",
       " 'Hon Hai Precision,6023.96\\n',\n",
       " 'Tencent,462.116\\n',\n",
       " 'Oracle,189.37\\n',\n",
       " 'Amazon,134.5']"
      ]
     },
     "execution_count": 49,
     "metadata": {},
     "output_type": "execute_result"
    }
   ],
   "source": []
  },
  {
   "cell_type": "markdown",
   "metadata": {},
   "source": [
    "##### Close the text file"
   ]
  },
  {
   "cell_type": "code",
   "execution_count": null,
   "metadata": {},
   "outputs": [],
   "source": []
  }
 ],
 "metadata": {
  "kernelspec": {
   "display_name": "Python 3",
   "language": "python",
   "name": "python3"
  },
  "language_info": {
   "codemirror_mode": {
    "name": "ipython",
    "version": 3
   },
   "file_extension": ".py",
   "mimetype": "text/x-python",
   "name": "python",
   "nbconvert_exporter": "python",
   "pygments_lexer": "ipython3",
   "version": "3.7.3"
  }
 },
 "nbformat": 4,
 "nbformat_minor": 2
}
