{
 "cells": [
  {
   "cell_type": "markdown",
   "metadata": {},
   "source": [
    "# Read/Write From/To SQL Server using Python"
   ]
  },
  {
   "cell_type": "markdown",
   "metadata": {},
   "source": [
    "The cells below show how to read and write from and to SQL Server using Python. There is a version for SQL Server which is  on-premises, and there is a version for Azure SQL Server.\n",
    "\n",
    "In the cells below, change everything enclosed by <> with the correct values for your server and database."
   ]
  },
  {
   "cell_type": "markdown",
   "metadata": {},
   "source": [
    "# On Premesis"
   ]
  },
  {
   "cell_type": "markdown",
   "metadata": {},
   "source": [
    "In this cell, we open a connection to the server. "
   ]
  },
  {
   "cell_type": "code",
   "execution_count": 2,
   "metadata": {
    "scrolled": true
   },
   "outputs": [
    {
     "name": "stderr",
     "output_type": "stream",
     "text": [
      "C:\\Users\\julesd\\AppData\\Local\\Continuum\\anaconda3\\lib\\site-packages\\sqlalchemy\\connectors\\pyodbc.py:79: SAWarning: No driver name specified; this is expected by PyODBC when using DSN-less connections\n",
      "  \"No driver name specified; \"\n"
     ]
    }
   ],
   "source": [
    "from sqlalchemy import create_engine\n",
    "import pandas as pd\n",
    "\n",
    "# Parameters\n",
    "ServerName = \"<SERVER_NAME>\"\n",
    "Database = \"<DATABASE_NAME>\"\n",
    "Driver = \"DRIVER={SQL Server}\"\n",
    "\n",
    "# Create the connection\n",
    "engine = create_engine('mssql+pyodbc://' + ServerName + '/' + Database + \"?\" + Driver)\n",
    "\n"
   ]
  },
  {
   "cell_type": "markdown",
   "metadata": {},
   "source": [
    "Here, we read from the server."
   ]
  },
  {
   "cell_type": "code",
   "execution_count": 1,
   "metadata": {},
   "outputs": [],
   "source": [
    "df = pd.read_sql_query(\"SELECT *  FROM <TABLE>\", engine)\n",
    "df"
   ]
  },
  {
   "cell_type": "markdown",
   "metadata": {},
   "source": [
    "Create a new test dataframe."
   ]
  },
  {
   "cell_type": "code",
   "execution_count": 4,
   "metadata": {},
   "outputs": [],
   "source": [
    "df = pd.DataFrame(data = {0:['a', 'b'], 1:['aa', 'bb']})"
   ]
  },
  {
   "cell_type": "markdown",
   "metadata": {},
   "source": [
    "Write back to the server."
   ]
  },
  {
   "cell_type": "code",
   "execution_count": 5,
   "metadata": {},
   "outputs": [],
   "source": [
    "df.to_sql('Test', con=engine, if_exists='append')"
   ]
  },
  {
   "cell_type": "markdown",
   "metadata": {},
   "source": [
    "# Azure SQL"
   ]
  },
  {
   "cell_type": "markdown",
   "metadata": {},
   "source": [
    "Open a connection to the server for reading."
   ]
  },
  {
   "cell_type": "code",
   "execution_count": 6,
   "metadata": {},
   "outputs": [],
   "source": [
    "import pyodbc\n",
    "import sqlalchemy\n",
    "import pandas as pd\n",
    "\n",
    "server = '<AZURE_SERVER>.database.windows.net'\n",
    "database = '<DATABASE_NAME>'\n",
    "username = '<USER_NAME>'\n",
    "password = '<PASSWORD>'\n",
    "driver= '{ODBC Driver 17 for SQL Server}'\n",
    "cnxn = pyodbc.connect('DRIVER='+driver+';SERVER='+server+';PORT=1433;DATABASE='+database+';UID='+username+';PWD='+ password)\n"
   ]
  },
  {
   "cell_type": "markdown",
   "metadata": {},
   "source": [
    "Open a connection to the server for writing."
   ]
  },
  {
   "cell_type": "code",
   "execution_count": 2,
   "metadata": {},
   "outputs": [],
   "source": [
    "con = pyodbc.connect(\"Driver={ODBC Driver 13 for SQL Server};Server=tcp:<AZURE_SERVER>.database.windows.net,1433;Database=<DATABASE_NAME>;Uid=<USER_NAME>@<AZURE_SERVER>;Pwd=<PASSWORD>\")"
   ]
  },
  {
   "cell_type": "markdown",
   "metadata": {},
   "source": [
    "Create a SQL Alchemy engine for writing."
   ]
  },
  {
   "cell_type": "code",
   "execution_count": 3,
   "metadata": {},
   "outputs": [
    {
     "name": "stderr",
     "output_type": "stream",
     "text": [
      "C:\\Users\\julesd\\AppData\\Local\\Continuum\\anaconda3\\lib\\site-packages\\sqlalchemy\\connectors\\pyodbc.py:79: SAWarning: No driver name specified; this is expected by PyODBC when using DSN-less connections\n",
      "  \"No driver name specified; \"\n"
     ]
    }
   ],
   "source": [
    "engine = sqlalchemy.create_engine(\"mssql+pyodbc://<USER_NAME>:<PASSWORD>@<AZURE_SERVER>.database.windows.net/<DATABASE_NAME>?DRIVER={ODBC Driver 13 for SQL Server}\",\n",
    "               echo=True)"
   ]
  },
  {
   "cell_type": "markdown",
   "metadata": {},
   "source": [
    "Read from the database."
   ]
  },
  {
   "cell_type": "code",
   "execution_count": 2,
   "metadata": {},
   "outputs": [],
   "source": [
    "df = pd.read_sql_query(\"SELECT *  FROM [dbo].<TABLE>\", con)\n",
    "df"
   ]
  },
  {
   "cell_type": "markdown",
   "metadata": {},
   "source": [
    "Create a test dataframe."
   ]
  },
  {
   "cell_type": "code",
   "execution_count": 3,
   "metadata": {
    "scrolled": true
   },
   "outputs": [],
   "source": [
    "df = pd.DataFrame(data = {0:['a', 'b'], 1:['aa', 'bb']})\n",
    "df"
   ]
  },
  {
   "cell_type": "markdown",
   "metadata": {},
   "source": [
    "Write to the database."
   ]
  },
  {
   "cell_type": "code",
   "execution_count": 4,
   "metadata": {
    "scrolled": true
   },
   "outputs": [],
   "source": [
    "df.to_sql('Test2', con=engine, if_exists='append')"
   ]
  }
 ],
 "metadata": {
  "kernelspec": {
   "display_name": "Python 3",
   "language": "python",
   "name": "python3"
  },
  "language_info": {
   "codemirror_mode": {
    "name": "ipython",
    "version": 3
   },
   "file_extension": ".py",
   "mimetype": "text/x-python",
   "name": "python",
   "nbconvert_exporter": "python",
   "pygments_lexer": "ipython3",
   "version": "3.7.3"
  }
 },
 "nbformat": 4,
 "nbformat_minor": 2
}
