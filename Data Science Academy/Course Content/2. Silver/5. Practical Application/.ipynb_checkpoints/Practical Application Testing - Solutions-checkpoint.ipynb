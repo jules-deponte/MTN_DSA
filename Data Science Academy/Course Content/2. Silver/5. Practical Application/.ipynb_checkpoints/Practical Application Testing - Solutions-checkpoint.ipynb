{
 "cells": [
  {
   "cell_type": "markdown",
   "metadata": {},
   "source": [
    "# Using a machine learning model to make predictions\n",
    "\n",
    "In this notebook, we will be using the machine learning model which was trained in the previous section. In this notebook, we will be reading in the machine learning model which was saved to disk, and will use it to run predictions on a test set of data. This is data which the machine learning model has not seen before. \n",
    "\n",
    "In order to get the machine learning model to work on the data correctly, we need to process the testing data in exactly the same way in which the training data was processed. Therefore, this notebook looks fairly similar to the training notebook, however, we do not need to go through the trouble of visualising the data."
   ]
  },
  {
   "cell_type": "markdown",
   "metadata": {},
   "source": [
    "Import the packages needed for the practical"
   ]
  },
  {
   "cell_type": "code",
   "execution_count": 1,
   "metadata": {
    "scrolled": true
   },
   "outputs": [],
   "source": [
    "import pandas as pd\n",
    "import numpy as np\n",
    "import matplotlib.pyplot as plt\n",
    "%matplotlib inline\n"
   ]
  },
  {
   "cell_type": "markdown",
   "metadata": {},
   "source": [
    "Import the dataset. Note that this is the **Automobile Prices Testing.csv** file."
   ]
  },
  {
   "cell_type": "code",
   "execution_count": 2,
   "metadata": {},
   "outputs": [],
   "source": [
    "df = pd.read_csv(r\"C:\\Users\\julesd\\OneDrive - Altron Karabina\\Karabina\\Demos and PoC's\\MTN\\Data Science Academy\\Course Content\\2. Siver\\Datasets\\Automobile prices Testing.csv\")"
   ]
  },
  {
   "cell_type": "code",
   "execution_count": null,
   "metadata": {},
   "outputs": [],
   "source": []
  },
  {
   "cell_type": "markdown",
   "metadata": {},
   "source": [
    "Have a look at the first 10 rows of data to get a feel for it. "
   ]
  },
  {
   "cell_type": "code",
   "execution_count": 3,
   "metadata": {},
   "outputs": [
    {
     "data": {
      "text/html": [
       "<div>\n",
       "<style scoped>\n",
       "    .dataframe tbody tr th:only-of-type {\n",
       "        vertical-align: middle;\n",
       "    }\n",
       "\n",
       "    .dataframe tbody tr th {\n",
       "        vertical-align: top;\n",
       "    }\n",
       "\n",
       "    .dataframe thead th {\n",
       "        text-align: right;\n",
       "    }\n",
       "</style>\n",
       "<table border=\"1\" class=\"dataframe\">\n",
       "  <thead>\n",
       "    <tr style=\"text-align: right;\">\n",
       "      <th></th>\n",
       "      <th>symboling</th>\n",
       "      <th>normalized-losses</th>\n",
       "      <th>make</th>\n",
       "      <th>fuel-type</th>\n",
       "      <th>aspiration</th>\n",
       "      <th>num-of-doors</th>\n",
       "      <th>body-style</th>\n",
       "      <th>drive-wheels</th>\n",
       "      <th>engine-location</th>\n",
       "      <th>wheel-base</th>\n",
       "      <th>...</th>\n",
       "      <th>engine-size</th>\n",
       "      <th>fuel-system</th>\n",
       "      <th>bore</th>\n",
       "      <th>stroke</th>\n",
       "      <th>compression-ratio</th>\n",
       "      <th>horsepower</th>\n",
       "      <th>peak-rpm</th>\n",
       "      <th>city-mpg</th>\n",
       "      <th>highway-mpg</th>\n",
       "      <th>price</th>\n",
       "    </tr>\n",
       "  </thead>\n",
       "  <tbody>\n",
       "    <tr>\n",
       "      <th>0</th>\n",
       "      <td>1</td>\n",
       "      <td>118</td>\n",
       "      <td>dodge</td>\n",
       "      <td>gas</td>\n",
       "      <td>std</td>\n",
       "      <td>two</td>\n",
       "      <td>hatchback</td>\n",
       "      <td>fwd</td>\n",
       "      <td>front</td>\n",
       "      <td>93.7</td>\n",
       "      <td>...</td>\n",
       "      <td>90</td>\n",
       "      <td>2bbl</td>\n",
       "      <td>2.97</td>\n",
       "      <td>3.23</td>\n",
       "      <td>9.41</td>\n",
       "      <td>68</td>\n",
       "      <td>5500</td>\n",
       "      <td>37</td>\n",
       "      <td>41</td>\n",
       "      <td>5572</td>\n",
       "    </tr>\n",
       "    <tr>\n",
       "      <th>1</th>\n",
       "      <td>0</td>\n",
       "      <td>106</td>\n",
       "      <td>honda</td>\n",
       "      <td>gas</td>\n",
       "      <td>std</td>\n",
       "      <td>two</td>\n",
       "      <td>hatchback</td>\n",
       "      <td>fwd</td>\n",
       "      <td>front</td>\n",
       "      <td>96.5</td>\n",
       "      <td>...</td>\n",
       "      <td>110</td>\n",
       "      <td>1bbl</td>\n",
       "      <td>3.15</td>\n",
       "      <td>3.58</td>\n",
       "      <td>9.00</td>\n",
       "      <td>86</td>\n",
       "      <td>5800</td>\n",
       "      <td>27</td>\n",
       "      <td>33</td>\n",
       "      <td>7895</td>\n",
       "    </tr>\n",
       "    <tr>\n",
       "      <th>2</th>\n",
       "      <td>1</td>\n",
       "      <td>129</td>\n",
       "      <td>mazda</td>\n",
       "      <td>gas</td>\n",
       "      <td>std</td>\n",
       "      <td>two</td>\n",
       "      <td>hatchback</td>\n",
       "      <td>fwd</td>\n",
       "      <td>front</td>\n",
       "      <td>98.8</td>\n",
       "      <td>...</td>\n",
       "      <td>122</td>\n",
       "      <td>2bbl</td>\n",
       "      <td>3.39</td>\n",
       "      <td>3.39</td>\n",
       "      <td>8.60</td>\n",
       "      <td>84</td>\n",
       "      <td>4800</td>\n",
       "      <td>26</td>\n",
       "      <td>32</td>\n",
       "      <td>8845</td>\n",
       "    </tr>\n",
       "    <tr>\n",
       "      <th>3</th>\n",
       "      <td>1</td>\n",
       "      <td>128</td>\n",
       "      <td>nissan</td>\n",
       "      <td>gas</td>\n",
       "      <td>std</td>\n",
       "      <td>two</td>\n",
       "      <td>sedan</td>\n",
       "      <td>fwd</td>\n",
       "      <td>front</td>\n",
       "      <td>94.5</td>\n",
       "      <td>...</td>\n",
       "      <td>97</td>\n",
       "      <td>2bbl</td>\n",
       "      <td>3.15</td>\n",
       "      <td>3.29</td>\n",
       "      <td>9.40</td>\n",
       "      <td>69</td>\n",
       "      <td>5200</td>\n",
       "      <td>31</td>\n",
       "      <td>37</td>\n",
       "      <td>7299</td>\n",
       "    </tr>\n",
       "    <tr>\n",
       "      <th>4</th>\n",
       "      <td>1</td>\n",
       "      <td>154</td>\n",
       "      <td>plymouth</td>\n",
       "      <td>gas</td>\n",
       "      <td>std</td>\n",
       "      <td>four</td>\n",
       "      <td>sedan</td>\n",
       "      <td>fwd</td>\n",
       "      <td>front</td>\n",
       "      <td>93.7</td>\n",
       "      <td>...</td>\n",
       "      <td>90</td>\n",
       "      <td>2bbl</td>\n",
       "      <td>2.97</td>\n",
       "      <td>3.23</td>\n",
       "      <td>9.40</td>\n",
       "      <td>68</td>\n",
       "      <td>5500</td>\n",
       "      <td>31</td>\n",
       "      <td>38</td>\n",
       "      <td>6692</td>\n",
       "    </tr>\n",
       "    <tr>\n",
       "      <th>5</th>\n",
       "      <td>3</td>\n",
       "      <td>197</td>\n",
       "      <td>toyota</td>\n",
       "      <td>gas</td>\n",
       "      <td>std</td>\n",
       "      <td>two</td>\n",
       "      <td>hatchback</td>\n",
       "      <td>rwd</td>\n",
       "      <td>front</td>\n",
       "      <td>102.9</td>\n",
       "      <td>...</td>\n",
       "      <td>171</td>\n",
       "      <td>mpfi</td>\n",
       "      <td>3.27</td>\n",
       "      <td>3.35</td>\n",
       "      <td>9.30</td>\n",
       "      <td>161</td>\n",
       "      <td>5200</td>\n",
       "      <td>19</td>\n",
       "      <td>24</td>\n",
       "      <td>15998</td>\n",
       "    </tr>\n",
       "    <tr>\n",
       "      <th>6</th>\n",
       "      <td>2</td>\n",
       "      <td>94</td>\n",
       "      <td>volkswagen</td>\n",
       "      <td>gas</td>\n",
       "      <td>std</td>\n",
       "      <td>four</td>\n",
       "      <td>sedan</td>\n",
       "      <td>fwd</td>\n",
       "      <td>front</td>\n",
       "      <td>97.3</td>\n",
       "      <td>...</td>\n",
       "      <td>109</td>\n",
       "      <td>mpfi</td>\n",
       "      <td>3.19</td>\n",
       "      <td>3.40</td>\n",
       "      <td>10.00</td>\n",
       "      <td>100</td>\n",
       "      <td>5500</td>\n",
       "      <td>26</td>\n",
       "      <td>32</td>\n",
       "      <td>9995</td>\n",
       "    </tr>\n",
       "    <tr>\n",
       "      <th>7</th>\n",
       "      <td>-1</td>\n",
       "      <td>65</td>\n",
       "      <td>toyota</td>\n",
       "      <td>diesel</td>\n",
       "      <td>turbo</td>\n",
       "      <td>four</td>\n",
       "      <td>sedan</td>\n",
       "      <td>fwd</td>\n",
       "      <td>front</td>\n",
       "      <td>102.4</td>\n",
       "      <td>...</td>\n",
       "      <td>110</td>\n",
       "      <td>idi</td>\n",
       "      <td>3.27</td>\n",
       "      <td>3.35</td>\n",
       "      <td>22.50</td>\n",
       "      <td>73</td>\n",
       "      <td>4500</td>\n",
       "      <td>30</td>\n",
       "      <td>33</td>\n",
       "      <td>10698</td>\n",
       "    </tr>\n",
       "    <tr>\n",
       "      <th>8</th>\n",
       "      <td>0</td>\n",
       "      <td>?</td>\n",
       "      <td>peugot</td>\n",
       "      <td>diesel</td>\n",
       "      <td>turbo</td>\n",
       "      <td>four</td>\n",
       "      <td>wagon</td>\n",
       "      <td>rwd</td>\n",
       "      <td>front</td>\n",
       "      <td>114.2</td>\n",
       "      <td>...</td>\n",
       "      <td>152</td>\n",
       "      <td>idi</td>\n",
       "      <td>3.70</td>\n",
       "      <td>3.52</td>\n",
       "      <td>21.00</td>\n",
       "      <td>95</td>\n",
       "      <td>4150</td>\n",
       "      <td>25</td>\n",
       "      <td>25</td>\n",
       "      <td>13860</td>\n",
       "    </tr>\n",
       "  </tbody>\n",
       "</table>\n",
       "<p>9 rows × 26 columns</p>\n",
       "</div>"
      ],
      "text/plain": [
       "   symboling normalized-losses        make fuel-type aspiration num-of-doors  \\\n",
       "0          1               118       dodge       gas        std          two   \n",
       "1          0               106       honda       gas        std          two   \n",
       "2          1               129       mazda       gas        std          two   \n",
       "3          1               128      nissan       gas        std          two   \n",
       "4          1               154    plymouth       gas        std         four   \n",
       "5          3               197      toyota       gas        std          two   \n",
       "6          2                94  volkswagen       gas        std         four   \n",
       "7         -1                65      toyota    diesel      turbo         four   \n",
       "8          0                 ?      peugot    diesel      turbo         four   \n",
       "\n",
       "  body-style drive-wheels engine-location  wheel-base  ...  engine-size  \\\n",
       "0  hatchback          fwd           front        93.7  ...           90   \n",
       "1  hatchback          fwd           front        96.5  ...          110   \n",
       "2  hatchback          fwd           front        98.8  ...          122   \n",
       "3      sedan          fwd           front        94.5  ...           97   \n",
       "4      sedan          fwd           front        93.7  ...           90   \n",
       "5  hatchback          rwd           front       102.9  ...          171   \n",
       "6      sedan          fwd           front        97.3  ...          109   \n",
       "7      sedan          fwd           front       102.4  ...          110   \n",
       "8      wagon          rwd           front       114.2  ...          152   \n",
       "\n",
       "   fuel-system  bore  stroke compression-ratio horsepower  peak-rpm city-mpg  \\\n",
       "0         2bbl  2.97    3.23              9.41         68      5500       37   \n",
       "1         1bbl  3.15    3.58              9.00         86      5800       27   \n",
       "2         2bbl  3.39    3.39              8.60         84      4800       26   \n",
       "3         2bbl  3.15    3.29              9.40         69      5200       31   \n",
       "4         2bbl  2.97    3.23              9.40         68      5500       31   \n",
       "5         mpfi  3.27    3.35              9.30        161      5200       19   \n",
       "6         mpfi  3.19    3.40             10.00        100      5500       26   \n",
       "7          idi  3.27    3.35             22.50         73      4500       30   \n",
       "8          idi  3.70    3.52             21.00         95      4150       25   \n",
       "\n",
       "   highway-mpg  price  \n",
       "0           41   5572  \n",
       "1           33   7895  \n",
       "2           32   8845  \n",
       "3           37   7299  \n",
       "4           38   6692  \n",
       "5           24  15998  \n",
       "6           32   9995  \n",
       "7           33  10698  \n",
       "8           25  13860  \n",
       "\n",
       "[9 rows x 26 columns]"
      ]
     },
     "execution_count": 3,
     "metadata": {},
     "output_type": "execute_result"
    }
   ],
   "source": [
    "df.head(10)"
   ]
  },
  {
   "cell_type": "markdown",
   "metadata": {},
   "source": [
    "Have a look at the data types."
   ]
  },
  {
   "cell_type": "code",
   "execution_count": 4,
   "metadata": {
    "scrolled": true
   },
   "outputs": [
    {
     "data": {
      "text/plain": [
       "symboling              int64\n",
       "normalized-losses     object\n",
       "make                  object\n",
       "fuel-type             object\n",
       "aspiration            object\n",
       "num-of-doors          object\n",
       "body-style            object\n",
       "drive-wheels          object\n",
       "engine-location       object\n",
       "wheel-base           float64\n",
       "length               float64\n",
       "width                float64\n",
       "height               float64\n",
       "curb-weight            int64\n",
       "engine-type           object\n",
       "num-of-cylinders      object\n",
       "engine-size            int64\n",
       "fuel-system           object\n",
       "bore                 float64\n",
       "stroke               float64\n",
       "compression-ratio    float64\n",
       "horsepower             int64\n",
       "peak-rpm               int64\n",
       "city-mpg               int64\n",
       "highway-mpg            int64\n",
       "price                  int64\n",
       "dtype: object"
      ]
     },
     "execution_count": 4,
     "metadata": {},
     "output_type": "execute_result"
    }
   ],
   "source": [
    "df.dtypes"
   ]
  },
  {
   "cell_type": "markdown",
   "metadata": {},
   "source": [
    "We can see that some columns we expect to be numeric are given as objects. This is due to there being '?' in some of the unknown fields. In order to carry out a data science, we need the columns to be of the correct data types. Therefore, we will replace the '?' character with blanks for numeric columns, and with '' for object columns."
   ]
  },
  {
   "cell_type": "code",
   "execution_count": 5,
   "metadata": {},
   "outputs": [],
   "source": [
    "df.replace('?', np.nan, inplace=True)"
   ]
  },
  {
   "cell_type": "markdown",
   "metadata": {},
   "source": [
    "We have replaced the '?' with blanks. We will now be able to select the columns which need to be converted to a numeric data type, and change them. To do this, we introduce a new Pandas function, called **.to_numeric()**. An example of its application is given in the cell below."
   ]
  },
  {
   "cell_type": "code",
   "execution_count": 6,
   "metadata": {},
   "outputs": [],
   "source": [
    "df['price'] = pd.to_numeric(df['price'], errors = 'coerce')"
   ]
  },
  {
   "cell_type": "markdown",
   "metadata": {},
   "source": [
    "In the cell above, the **errors** argument tells the function what to do when an error is encountered, that is, when a value cannot be parsed as a numeric type. The **coerce** parameter will change all errors to NaN's. Read the doc string for further details."
   ]
  },
  {
   "cell_type": "markdown",
   "metadata": {},
   "source": [
    "We could change all of the columns we want to be numeric, individually, using thhe above function, but that is poor practice. It is better to use the **.apply()** function to apply the **.to_numeric()** function to all of the appropraite columns in the dataframe in one line of code. First, we need to make a list of columns whose data types we want to change."
   ]
  },
  {
   "cell_type": "code",
   "execution_count": 7,
   "metadata": {},
   "outputs": [],
   "source": [
    "numeric_cols = ['normalized-losses', 'bore', 'stroke', 'horsepower', 'peak-rpm', 'price']"
   ]
  },
  {
   "cell_type": "markdown",
   "metadata": {},
   "source": [
    "Then we use the **.apply()** function to te appropriate columns, as shown in the cell below."
   ]
  },
  {
   "cell_type": "code",
   "execution_count": 8,
   "metadata": {
    "scrolled": true
   },
   "outputs": [],
   "source": [
    "df[numeric_cols] = df[numeric_cols].apply(pd.to_numeric, errors = 'coerce')"
   ]
  },
  {
   "cell_type": "markdown",
   "metadata": {},
   "source": [
    "We can now check the data types again."
   ]
  },
  {
   "cell_type": "code",
   "execution_count": 9,
   "metadata": {
    "scrolled": true
   },
   "outputs": [
    {
     "data": {
      "text/plain": [
       "symboling              int64\n",
       "normalized-losses    float64\n",
       "make                  object\n",
       "fuel-type             object\n",
       "aspiration            object\n",
       "num-of-doors          object\n",
       "body-style            object\n",
       "drive-wheels          object\n",
       "engine-location       object\n",
       "wheel-base           float64\n",
       "length               float64\n",
       "width                float64\n",
       "height               float64\n",
       "curb-weight            int64\n",
       "engine-type           object\n",
       "num-of-cylinders      object\n",
       "engine-size            int64\n",
       "fuel-system           object\n",
       "bore                 float64\n",
       "stroke               float64\n",
       "compression-ratio    float64\n",
       "horsepower             int64\n",
       "peak-rpm               int64\n",
       "city-mpg               int64\n",
       "highway-mpg            int64\n",
       "price                  int64\n",
       "dtype: object"
      ]
     },
     "execution_count": 9,
     "metadata": {},
     "output_type": "execute_result"
    }
   ],
   "source": [
    "df.dtypes"
   ]
  },
  {
   "cell_type": "markdown",
   "metadata": {},
   "source": [
    "We can see that the data types are now correct. All of the columns we expect to see as nunmeric are numeric."
   ]
  },
  {
   "cell_type": "markdown",
   "metadata": {},
   "source": [
    "We can now obtain the summary statistics for the dataframe, using the **.describe()** function."
   ]
  },
  {
   "cell_type": "code",
   "execution_count": 10,
   "metadata": {
    "scrolled": false
   },
   "outputs": [
    {
     "data": {
      "text/html": [
       "<div>\n",
       "<style scoped>\n",
       "    .dataframe tbody tr th:only-of-type {\n",
       "        vertical-align: middle;\n",
       "    }\n",
       "\n",
       "    .dataframe tbody tr th {\n",
       "        vertical-align: top;\n",
       "    }\n",
       "\n",
       "    .dataframe thead th {\n",
       "        text-align: right;\n",
       "    }\n",
       "</style>\n",
       "<table border=\"1\" class=\"dataframe\">\n",
       "  <thead>\n",
       "    <tr style=\"text-align: right;\">\n",
       "      <th></th>\n",
       "      <th>symboling</th>\n",
       "      <th>normalized-losses</th>\n",
       "      <th>wheel-base</th>\n",
       "      <th>length</th>\n",
       "      <th>width</th>\n",
       "      <th>height</th>\n",
       "      <th>curb-weight</th>\n",
       "      <th>engine-size</th>\n",
       "      <th>bore</th>\n",
       "      <th>stroke</th>\n",
       "      <th>compression-ratio</th>\n",
       "      <th>horsepower</th>\n",
       "      <th>peak-rpm</th>\n",
       "      <th>city-mpg</th>\n",
       "      <th>highway-mpg</th>\n",
       "      <th>price</th>\n",
       "    </tr>\n",
       "  </thead>\n",
       "  <tbody>\n",
       "    <tr>\n",
       "      <th>count</th>\n",
       "      <td>9.000000</td>\n",
       "      <td>8.000000</td>\n",
       "      <td>9.000000</td>\n",
       "      <td>9.000000</td>\n",
       "      <td>9.000000</td>\n",
       "      <td>9.000000</td>\n",
       "      <td>9.000000</td>\n",
       "      <td>9.000000</td>\n",
       "      <td>9.000000</td>\n",
       "      <td>9.000000</td>\n",
       "      <td>9.000000</td>\n",
       "      <td>9.000000</td>\n",
       "      <td>9.000000</td>\n",
       "      <td>9.000000</td>\n",
       "      <td>9.000000</td>\n",
       "      <td>9.000000</td>\n",
       "    </tr>\n",
       "    <tr>\n",
       "      <th>mean</th>\n",
       "      <td>0.888889</td>\n",
       "      <td>123.875000</td>\n",
       "      <td>99.333333</td>\n",
       "      <td>173.877778</td>\n",
       "      <td>65.688889</td>\n",
       "      <td>53.822222</td>\n",
       "      <td>2407.000000</td>\n",
       "      <td>116.777778</td>\n",
       "      <td>3.228889</td>\n",
       "      <td>3.371111</td>\n",
       "      <td>12.067778</td>\n",
       "      <td>89.333333</td>\n",
       "      <td>5127.777778</td>\n",
       "      <td>28.000000</td>\n",
       "      <td>32.777778</td>\n",
       "      <td>9650.444444</td>\n",
       "    </tr>\n",
       "    <tr>\n",
       "      <th>std</th>\n",
       "      <td>1.166667</td>\n",
       "      <td>39.660839</td>\n",
       "      <td>6.542362</td>\n",
       "      <td>12.114741</td>\n",
       "      <td>1.720788</td>\n",
       "      <td>2.520306</td>\n",
       "      <td>515.816586</td>\n",
       "      <td>27.806374</td>\n",
       "      <td>0.223408</td>\n",
       "      <td>0.119525</td>\n",
       "      <td>5.514603</td>\n",
       "      <td>29.393877</td>\n",
       "      <td>540.318836</td>\n",
       "      <td>5.024938</td>\n",
       "      <td>5.607535</td>\n",
       "      <td>3425.522409</td>\n",
       "    </tr>\n",
       "    <tr>\n",
       "      <th>min</th>\n",
       "      <td>-1.000000</td>\n",
       "      <td>65.000000</td>\n",
       "      <td>93.700000</td>\n",
       "      <td>157.300000</td>\n",
       "      <td>63.800000</td>\n",
       "      <td>50.800000</td>\n",
       "      <td>1876.000000</td>\n",
       "      <td>90.000000</td>\n",
       "      <td>2.970000</td>\n",
       "      <td>3.230000</td>\n",
       "      <td>8.600000</td>\n",
       "      <td>68.000000</td>\n",
       "      <td>4150.000000</td>\n",
       "      <td>19.000000</td>\n",
       "      <td>24.000000</td>\n",
       "      <td>5572.000000</td>\n",
       "    </tr>\n",
       "    <tr>\n",
       "      <th>25%</th>\n",
       "      <td>0.000000</td>\n",
       "      <td>103.000000</td>\n",
       "      <td>94.500000</td>\n",
       "      <td>167.300000</td>\n",
       "      <td>63.800000</td>\n",
       "      <td>52.000000</td>\n",
       "      <td>1989.000000</td>\n",
       "      <td>97.000000</td>\n",
       "      <td>3.150000</td>\n",
       "      <td>3.290000</td>\n",
       "      <td>9.300000</td>\n",
       "      <td>69.000000</td>\n",
       "      <td>4800.000000</td>\n",
       "      <td>26.000000</td>\n",
       "      <td>32.000000</td>\n",
       "      <td>7299.000000</td>\n",
       "    </tr>\n",
       "    <tr>\n",
       "      <th>50%</th>\n",
       "      <td>1.000000</td>\n",
       "      <td>123.000000</td>\n",
       "      <td>97.300000</td>\n",
       "      <td>171.700000</td>\n",
       "      <td>65.500000</td>\n",
       "      <td>53.700000</td>\n",
       "      <td>2300.000000</td>\n",
       "      <td>110.000000</td>\n",
       "      <td>3.190000</td>\n",
       "      <td>3.350000</td>\n",
       "      <td>9.400000</td>\n",
       "      <td>84.000000</td>\n",
       "      <td>5200.000000</td>\n",
       "      <td>27.000000</td>\n",
       "      <td>33.000000</td>\n",
       "      <td>8845.000000</td>\n",
       "    </tr>\n",
       "    <tr>\n",
       "      <th>75%</th>\n",
       "      <td>1.000000</td>\n",
       "      <td>135.250000</td>\n",
       "      <td>102.400000</td>\n",
       "      <td>177.800000</td>\n",
       "      <td>66.500000</td>\n",
       "      <td>54.900000</td>\n",
       "      <td>2480.000000</td>\n",
       "      <td>122.000000</td>\n",
       "      <td>3.270000</td>\n",
       "      <td>3.400000</td>\n",
       "      <td>10.000000</td>\n",
       "      <td>95.000000</td>\n",
       "      <td>5500.000000</td>\n",
       "      <td>31.000000</td>\n",
       "      <td>37.000000</td>\n",
       "      <td>10698.000000</td>\n",
       "    </tr>\n",
       "    <tr>\n",
       "      <th>max</th>\n",
       "      <td>3.000000</td>\n",
       "      <td>197.000000</td>\n",
       "      <td>114.200000</td>\n",
       "      <td>198.900000</td>\n",
       "      <td>68.400000</td>\n",
       "      <td>58.700000</td>\n",
       "      <td>3430.000000</td>\n",
       "      <td>171.000000</td>\n",
       "      <td>3.700000</td>\n",
       "      <td>3.580000</td>\n",
       "      <td>22.500000</td>\n",
       "      <td>161.000000</td>\n",
       "      <td>5800.000000</td>\n",
       "      <td>37.000000</td>\n",
       "      <td>41.000000</td>\n",
       "      <td>15998.000000</td>\n",
       "    </tr>\n",
       "  </tbody>\n",
       "</table>\n",
       "</div>"
      ],
      "text/plain": [
       "       symboling  normalized-losses  wheel-base      length      width  \\\n",
       "count   9.000000           8.000000    9.000000    9.000000   9.000000   \n",
       "mean    0.888889         123.875000   99.333333  173.877778  65.688889   \n",
       "std     1.166667          39.660839    6.542362   12.114741   1.720788   \n",
       "min    -1.000000          65.000000   93.700000  157.300000  63.800000   \n",
       "25%     0.000000         103.000000   94.500000  167.300000  63.800000   \n",
       "50%     1.000000         123.000000   97.300000  171.700000  65.500000   \n",
       "75%     1.000000         135.250000  102.400000  177.800000  66.500000   \n",
       "max     3.000000         197.000000  114.200000  198.900000  68.400000   \n",
       "\n",
       "          height  curb-weight  engine-size      bore    stroke  \\\n",
       "count   9.000000     9.000000     9.000000  9.000000  9.000000   \n",
       "mean   53.822222  2407.000000   116.777778  3.228889  3.371111   \n",
       "std     2.520306   515.816586    27.806374  0.223408  0.119525   \n",
       "min    50.800000  1876.000000    90.000000  2.970000  3.230000   \n",
       "25%    52.000000  1989.000000    97.000000  3.150000  3.290000   \n",
       "50%    53.700000  2300.000000   110.000000  3.190000  3.350000   \n",
       "75%    54.900000  2480.000000   122.000000  3.270000  3.400000   \n",
       "max    58.700000  3430.000000   171.000000  3.700000  3.580000   \n",
       "\n",
       "       compression-ratio  horsepower     peak-rpm   city-mpg  highway-mpg  \\\n",
       "count           9.000000    9.000000     9.000000   9.000000     9.000000   \n",
       "mean           12.067778   89.333333  5127.777778  28.000000    32.777778   \n",
       "std             5.514603   29.393877   540.318836   5.024938     5.607535   \n",
       "min             8.600000   68.000000  4150.000000  19.000000    24.000000   \n",
       "25%             9.300000   69.000000  4800.000000  26.000000    32.000000   \n",
       "50%             9.400000   84.000000  5200.000000  27.000000    33.000000   \n",
       "75%            10.000000   95.000000  5500.000000  31.000000    37.000000   \n",
       "max            22.500000  161.000000  5800.000000  37.000000    41.000000   \n",
       "\n",
       "              price  \n",
       "count      9.000000  \n",
       "mean    9650.444444  \n",
       "std     3425.522409  \n",
       "min     5572.000000  \n",
       "25%     7299.000000  \n",
       "50%     8845.000000  \n",
       "75%    10698.000000  \n",
       "max    15998.000000  "
      ]
     },
     "execution_count": 10,
     "metadata": {},
     "output_type": "execute_result"
    }
   ],
   "source": [
    "df.describe()"
   ]
  },
  {
   "cell_type": "markdown",
   "metadata": {},
   "source": [
    "## Visualising data in Python and handling nulls\n",
    "\n",
    "Visualising data in Python is differnt in intent than visualisng data in Power BI. When using Power BI, for example, the report author is generally creating reports for business users and decision makers. These reports generally are built, incorporating the insights uncovered during the data analysis phase.\n",
    "\n",
    "When creating visualisations in Python, the data analyst is usually trying to uncover the insights. The visualisations are meant to aid the analyst in selecting the appropriate columns in the dataset for machine learning, or to find correlations in the data. The visualisations shown in the next few cells will serve to demonstrate this idea.\n",
    "\n",
    "The package we will be using is called Seaborn. This is built on top of Matplotlib, but with a lot of additional functionality. It is easy to use to generate powerful and insightful visualisations."
   ]
  },
  {
   "cell_type": "code",
   "execution_count": 11,
   "metadata": {},
   "outputs": [],
   "source": [
    "import seaborn as sns"
   ]
  },
  {
   "cell_type": "markdown",
   "metadata": {},
   "source": [
    "The first thing we want to do with any real dataset is to determine the existance of null values in the dataset. We do this by calling the Heatmap visual. The argument **fig = plt.figure(figsize=(10, 10))** is used to generate a visual of a decent size on the page. "
   ]
  },
  {
   "cell_type": "code",
   "execution_count": 12,
   "metadata": {
    "scrolled": false
   },
   "outputs": [
    {
     "data": {
      "text/plain": [
       "<matplotlib.axes._subplots.AxesSubplot at 0x1d1a4f99cf8>"
      ]
     },
     "execution_count": 12,
     "metadata": {},
     "output_type": "execute_result"
    },
    {
     "data": {
      "image/png": "[encoded data removed]",
      "text/plain": [
       "<Figure size 720x720 with 2 Axes>"
      ]
     },
     "metadata": {
      "needs_background": "light"
     },
     "output_type": "display_data"
    }
   ],
   "source": [
    "fig = plt.figure(figsize=(10, 10))\n",
    "sns.heatmap(df.isnull())"
   ]
  },
  {
   "cell_type": "markdown",
   "metadata": {},
   "source": [
    "Everywhere the heatmap is black indicates a non-null value. The light coloured areas indicate nulls. The nulls are fairly sparse. With this in mind, we can decide how we want to deal with the nulls."
   ]
  },
  {
   "cell_type": "markdown",
   "metadata": {},
   "source": [
    "## Dealing with nulls\n",
    "\n",
    "In this section, we want to look at some ways of dealing with null values. In some of the functions we called earlier, we simply dropped any rows with nulls in them. This is sometimes a reasonable approach, but, but you have a significant number of nulls, you may want to try fill these nulls with something else. Some approaches are to fill nulls with 0, or with the mean/median/mode of the column. If your data is ordered, you may want to forward/back fill values. The approach you use should be informed by knowledge you as the subject matter expert should have about the field.\n",
    "\n",
    "In this section, we will look at filling nulls with the mean, forward filling as well as simply dropping nulls."
   ]
  },
  {
   "cell_type": "markdown",
   "metadata": {},
   "source": [
    "To get rid og the null values in the columns which contain nulls, we refer to the summary statistics of the dataframe to determine if it is viable to replace the nulls with another value, and if so, which one? We will look at the summary statistics of the dataframe, as well as a pairplot, to visualise the distributions of the values in the selected columns."
   ]
  },
  {
   "cell_type": "code",
   "execution_count": 13,
   "metadata": {
    "scrolled": true
   },
   "outputs": [
    {
     "data": {
      "text/html": [
       "<div>\n",
       "<style scoped>\n",
       "    .dataframe tbody tr th:only-of-type {\n",
       "        vertical-align: middle;\n",
       "    }\n",
       "\n",
       "    .dataframe tbody tr th {\n",
       "        vertical-align: top;\n",
       "    }\n",
       "\n",
       "    .dataframe thead th {\n",
       "        text-align: right;\n",
       "    }\n",
       "</style>\n",
       "<table border=\"1\" class=\"dataframe\">\n",
       "  <thead>\n",
       "    <tr style=\"text-align: right;\">\n",
       "      <th></th>\n",
       "      <th>horsepower</th>\n",
       "      <th>peak-rpm</th>\n",
       "      <th>bore</th>\n",
       "      <th>stroke</th>\n",
       "      <th>price</th>\n",
       "    </tr>\n",
       "  </thead>\n",
       "  <tbody>\n",
       "    <tr>\n",
       "      <th>count</th>\n",
       "      <td>9.000000</td>\n",
       "      <td>9.000000</td>\n",
       "      <td>9.000000</td>\n",
       "      <td>9.000000</td>\n",
       "      <td>9.000000</td>\n",
       "    </tr>\n",
       "    <tr>\n",
       "      <th>mean</th>\n",
       "      <td>89.333333</td>\n",
       "      <td>5127.777778</td>\n",
       "      <td>3.228889</td>\n",
       "      <td>3.371111</td>\n",
       "      <td>9650.444444</td>\n",
       "    </tr>\n",
       "    <tr>\n",
       "      <th>std</th>\n",
       "      <td>29.393877</td>\n",
       "      <td>540.318836</td>\n",
       "      <td>0.223408</td>\n",
       "      <td>0.119525</td>\n",
       "      <td>3425.522409</td>\n",
       "    </tr>\n",
       "    <tr>\n",
       "      <th>min</th>\n",
       "      <td>68.000000</td>\n",
       "      <td>4150.000000</td>\n",
       "      <td>2.970000</td>\n",
       "      <td>3.230000</td>\n",
       "      <td>5572.000000</td>\n",
       "    </tr>\n",
       "    <tr>\n",
       "      <th>25%</th>\n",
       "      <td>69.000000</td>\n",
       "      <td>4800.000000</td>\n",
       "      <td>3.150000</td>\n",
       "      <td>3.290000</td>\n",
       "      <td>7299.000000</td>\n",
       "    </tr>\n",
       "    <tr>\n",
       "      <th>50%</th>\n",
       "      <td>84.000000</td>\n",
       "      <td>5200.000000</td>\n",
       "      <td>3.190000</td>\n",
       "      <td>3.350000</td>\n",
       "      <td>8845.000000</td>\n",
       "    </tr>\n",
       "    <tr>\n",
       "      <th>75%</th>\n",
       "      <td>95.000000</td>\n",
       "      <td>5500.000000</td>\n",
       "      <td>3.270000</td>\n",
       "      <td>3.400000</td>\n",
       "      <td>10698.000000</td>\n",
       "    </tr>\n",
       "    <tr>\n",
       "      <th>max</th>\n",
       "      <td>161.000000</td>\n",
       "      <td>5800.000000</td>\n",
       "      <td>3.700000</td>\n",
       "      <td>3.580000</td>\n",
       "      <td>15998.000000</td>\n",
       "    </tr>\n",
       "  </tbody>\n",
       "</table>\n",
       "</div>"
      ],
      "text/plain": [
       "       horsepower     peak-rpm      bore    stroke         price\n",
       "count    9.000000     9.000000  9.000000  9.000000      9.000000\n",
       "mean    89.333333  5127.777778  3.228889  3.371111   9650.444444\n",
       "std     29.393877   540.318836  0.223408  0.119525   3425.522409\n",
       "min     68.000000  4150.000000  2.970000  3.230000   5572.000000\n",
       "25%     69.000000  4800.000000  3.150000  3.290000   7299.000000\n",
       "50%     84.000000  5200.000000  3.190000  3.350000   8845.000000\n",
       "75%     95.000000  5500.000000  3.270000  3.400000  10698.000000\n",
       "max    161.000000  5800.000000  3.700000  3.580000  15998.000000"
      ]
     },
     "execution_count": 13,
     "metadata": {},
     "output_type": "execute_result"
    }
   ],
   "source": [
    "df[['horsepower', 'peak-rpm', 'bore', 'stroke', 'price', 'num-of-doors']].describe()"
   ]
  },
  {
   "cell_type": "code",
   "execution_count": 14,
   "metadata": {
    "scrolled": true
   },
   "outputs": [
    {
     "data": {
      "text/plain": [
       "<seaborn.axisgrid.PairGrid at 0x1d1a50d2080>"
      ]
     },
     "execution_count": 14,
     "metadata": {},
     "output_type": "execute_result"
    },
    {
     "data": {
      "image/png": "[encoded data removed]",
      "text/plain": [
       "<Figure size 900x900 with 30 Axes>"
      ]
     },
     "metadata": {
      "needs_background": "light"
     },
     "output_type": "display_data"
    }
   ],
   "source": [
    "sns.pairplot(df[['horsepower', 'peak-rpm', 'bore', 'stroke', 'price', 'num-of-doors']].dropna())"
   ]
  },
  {
   "cell_type": "markdown",
   "metadata": {},
   "source": [
    "It appears as if the values for the **peak-rpm**, **bore** and **stroke** columns are normally distributed. It appears that the **horsepower** and **price** column values are skewed to the left. We will therefore replace the nulls in the **peak-rpm**, **bore** and **stroke** columns with their respective averages. "
   ]
  },
  {
   "cell_type": "code",
   "execution_count": 15,
   "metadata": {},
   "outputs": [],
   "source": [
    "df[['peak-rpm', 'bore', 'stroke']] = df[['peak-rpm', 'bore', 'stroke']].fillna(df[['peak-rpm', 'bore', 'stroke']].mean())"
   ]
  },
  {
   "cell_type": "markdown",
   "metadata": {},
   "source": [
    "For the imputation of the horsepower and the price, we will use a different method. As it appears that the price and the horsepower appear to vary linearly with respect to each other, we will sort the dataframe according tot the price, and then use the forward fill method on the horsepower, and then we will sort the dataframe according to horsepower, and then use the forward fill method on the price column."
   ]
  },
  {
   "cell_type": "code",
   "execution_count": 16,
   "metadata": {},
   "outputs": [],
   "source": [
    "df.sort_values('horsepower', inplace=True)\n",
    "df['price'].fillna(method = 'ffill', inplace = True)"
   ]
  },
  {
   "cell_type": "code",
   "execution_count": 17,
   "metadata": {},
   "outputs": [],
   "source": [
    "df.sort_values('price', inplace=True)\n",
    "df['horsepower'].fillna(method = 'ffill', inplace = True)"
   ]
  },
  {
   "cell_type": "markdown",
   "metadata": {},
   "source": [
    "Recall that the **symboling** and **normalized-losses** columns appeared to have no correlation with respect to price. Further, the **normalized-losses** column contained many null values. We will therefore drop these columns. After this, we will simply drop the remaining nulls."
   ]
  },
  {
   "cell_type": "code",
   "execution_count": 18,
   "metadata": {},
   "outputs": [],
   "source": [
    "df.drop(['symboling', 'normalized-losses'], axis = 1, inplace = True)\n",
    "df.dropna(inplace = True)"
   ]
  },
  {
   "cell_type": "markdown",
   "metadata": {},
   "source": [
    "We can now check the dataframe again to see if the nulls have all been dealt with."
   ]
  },
  {
   "cell_type": "code",
   "execution_count": 19,
   "metadata": {
    "scrolled": true
   },
   "outputs": [
    {
     "data": {
      "text/plain": [
       "<matplotlib.axes._subplots.AxesSubplot at 0x1d1a932fdd8>"
      ]
     },
     "execution_count": 19,
     "metadata": {},
     "output_type": "execute_result"
    },
    {
     "data": {
      "image/png": "[encoded data removed]",
      "text/plain": [
       "<Figure size 720x720 with 2 Axes>"
      ]
     },
     "metadata": {
      "needs_background": "light"
     },
     "output_type": "display_data"
    }
   ],
   "source": [
    "fig = plt.figure(figsize=(10, 10))\n",
    "sns.heatmap(df.isnull())"
   ]
  },
  {
   "cell_type": "markdown",
   "metadata": {},
   "source": [
    "Since we want to predict the price of the automobiles, let us have a look at the distribution of the price column. Using the **.distplot()** function, with 20 bins, display a distribution plot of the price data. The distplot function does not work well with NaN values in the dataset, so for the purpose of plotting the function, you will have to drop the null values."
   ]
  },
  {
   "cell_type": "code",
   "execution_count": 20,
   "metadata": {
    "scrolled": true
   },
   "outputs": [
    {
     "name": "stderr",
     "output_type": "stream",
     "text": [
      "C:\\Users\\julesd\\AppData\\Local\\Continuum\\anaconda3\\lib\\site-packages\\scipy\\stats\\stats.py:1713: FutureWarning: Using a non-tuple sequence for multidimensional indexing is deprecated; use `arr[tuple(seq)]` instead of `arr[seq]`. In the future this will be interpreted as an array index, `arr[np.array(seq)]`, which will result either in an error or a different result.\n",
      "  return np.add.reduce(sorted[indexer] * weights, axis=axis) / sumval\n"
     ]
    },
    {
     "data": {
      "text/plain": [
       "<matplotlib.axes._subplots.AxesSubplot at 0x1d1a975f048>"
      ]
     },
     "execution_count": 20,
     "metadata": {},
     "output_type": "execute_result"
    },
    {
     "data": {
      "image/png": "[encoded data removed]",
      "text/plain": [
       "<Figure size 432x288 with 1 Axes>"
      ]
     },
     "metadata": {
      "needs_background": "light"
     },
     "output_type": "display_data"
    }
   ],
   "source": [
    "sns.distplot(df['price'].dropna(), bins = 20)"
   ]
  },
  {
   "cell_type": "markdown",
   "metadata": {},
   "source": [
    "We may want to compare the price of the automobile against some other parameters. For example, sports cars, with higher horsepower outputs would tend to be more expensive than smaller city cars. Let's investigate. Use the **.jointplot()** function to determine the relationship between **price** and **horsepower**."
   ]
  },
  {
   "cell_type": "code",
   "execution_count": 21,
   "metadata": {
    "scrolled": true
   },
   "outputs": [
    {
     "name": "stderr",
     "output_type": "stream",
     "text": [
      "C:\\Users\\julesd\\AppData\\Local\\Continuum\\anaconda3\\lib\\site-packages\\scipy\\stats\\stats.py:1713: FutureWarning: Using a non-tuple sequence for multidimensional indexing is deprecated; use `arr[tuple(seq)]` instead of `arr[seq]`. In the future this will be interpreted as an array index, `arr[np.array(seq)]`, which will result either in an error or a different result.\n",
      "  return np.add.reduce(sorted[indexer] * weights, axis=axis) / sumval\n"
     ]
    },
    {
     "data": {
      "text/plain": [
       "<seaborn.axisgrid.JointGrid at 0x1d1a9783438>"
      ]
     },
     "execution_count": 21,
     "metadata": {},
     "output_type": "execute_result"
    },
    {
     "data": {
      "image/png": "[encoded data removed]",
      "text/plain": [
       "<Figure size 432x432 with 3 Axes>"
      ]
     },
     "metadata": {
      "needs_background": "light"
     },
     "output_type": "display_data"
    }
   ],
   "source": [
    "sns.jointplot(x='horsepower', y='price', data = df)"
   ]
  },
  {
   "cell_type": "markdown",
   "metadata": {},
   "source": [
    "Our hypotheis seems to be correct. However, there are several other columns against which we can compare the price. It would be inefficient to try create multiple jointplots in the manner we have just done. Instead, we can use the PairGrid function.\n",
    "\n",
    "In this visual, we want to compare price against all of the other numerical columns."
   ]
  },
  {
   "cell_type": "code",
   "execution_count": 22,
   "metadata": {
    "scrolled": true
   },
   "outputs": [
    {
     "data": {
      "text/plain": [
       "<seaborn.axisgrid.PairGrid at 0x1d1a9930898>"
      ]
     },
     "execution_count": 22,
     "metadata": {},
     "output_type": "execute_result"
    },
    {
     "data": {
      "image/png": "[encoded data removed]",
      "text/plain": [
       "<Figure size 450x2520 with 14 Axes>"
      ]
     },
     "metadata": {
      "needs_background": "light"
     },
     "output_type": "display_data"
    }
   ],
   "source": [
    "g = sns.PairGrid(data = df.dropna(), \n",
    "                 x_vars = 'price', \n",
    "                 y_vars= df.select_dtypes(['int64', 'float64']).columns, \n",
    "                 aspect=2.5)\n",
    "g.map(plt.scatter)"
   ]
  },
  {
   "cell_type": "markdown",
   "metadata": {},
   "source": [
    "There are several numeric columns that seem to have a relationship with price. Length and wheel base seem to be positively correlated with price, while mpg (fuel economy) seems to have a negative correlation, although these correlations are not linear. In order to run a useful machine learning model, if we could modify the values in a column such that any correlations are linear, that would be beneficial. We can also see that symboling and normalized-losses seem to have no correlation whatsoever. We can get rid of these two columns, as they will add unnecessary noise into the machine learning model."
   ]
  },
  {
   "cell_type": "markdown",
   "metadata": {},
   "source": [
    "In order to linearise the price column, we will take the natural logarithm of this column. "
   ]
  },
  {
   "cell_type": "code",
   "execution_count": 23,
   "metadata": {},
   "outputs": [],
   "source": [
    "df['price'] = df['price'].apply(np.log)"
   ]
  },
  {
   "cell_type": "markdown",
   "metadata": {},
   "source": [
    "We can now run the same PairGrid again to see if the variation of price vs fuel consumption is now linear."
   ]
  },
  {
   "cell_type": "code",
   "execution_count": 24,
   "metadata": {
    "scrolled": true
   },
   "outputs": [
    {
     "data": {
      "text/plain": [
       "<seaborn.axisgrid.PairGrid at 0x1d1a98e2320>"
      ]
     },
     "execution_count": 24,
     "metadata": {},
     "output_type": "execute_result"
    },
    {
     "data": {
      "image/png": "[encoded data removed]",
      "text/plain": [
       "<Figure size 450x2520 with 14 Axes>"
      ]
     },
     "metadata": {
      "needs_background": "light"
     },
     "output_type": "display_data"
    }
   ],
   "source": [
    "g = sns.PairGrid(data = df.dropna(), \n",
    "                 x_vars = 'price', \n",
    "                 y_vars= df.select_dtypes(['int64', 'float64']).columns, \n",
    "                 aspect=2.5)\n",
    "g.map(plt.scatter)"
   ]
  },
  {
   "cell_type": "markdown",
   "metadata": {},
   "source": [
    "From these visuals, it appears that taking the natural logarithm of the price column seems to have increased the linearity of the price column when compared against the other columns in the dataset."
   ]
  },
  {
   "cell_type": "markdown",
   "metadata": {},
   "source": [
    "## Normalising data"
   ]
  },
  {
   "cell_type": "markdown",
   "metadata": {},
   "source": [
    "The next concept to look at is normalising the data. To illustrate this concepte, we can plot **curb-weight** vs **width**"
   ]
  },
  {
   "cell_type": "code",
   "execution_count": 25,
   "metadata": {
    "scrolled": true
   },
   "outputs": [
    {
     "data": {
      "text/plain": [
       "<matplotlib.collections.PathCollection at 0x1d1ab588a58>"
      ]
     },
     "execution_count": 25,
     "metadata": {},
     "output_type": "execute_result"
    },
    {
     "data": {
      "image/png": "[encoded data removed]",
      "text/plain": [
       "<Figure size 432x288 with 1 Axes>"
      ]
     },
     "metadata": {
      "needs_background": "light"
     },
     "output_type": "display_data"
    }
   ],
   "source": [
    "plt.xlabel('width')\n",
    "plt.ylabel('curb-weight')\n",
    "plt.scatter(x = df['width'], y = df['curb-weight'])"
   ]
  },
  {
   "cell_type": "markdown",
   "metadata": {},
   "source": [
    "We can see that the magnitude of the width of the automobiles is in the 10s and the magnitude of the weight is in the 1000s. There is 2 orders of magnitude difference between these two features. Therefore, a machine learning algorithm will may infer that the curb-weight is a more important feature because its values are larger in magnitude than those of the width. \n",
    "\n",
    "We therefore want to normalise the data. This effectively means that we will be taking each column and setting its minimum value to be 0 and its maximum value to be 1. The values of the rest of the data will be scaled such that their distibution between the minimum and the maximum will remain the same as they were in the original column. The purpose of doing this is to ensure that all of the columns in the dataframe are approximately the same scale, such that a machine learning algorithm does not assign more importance to a column simply because its values are greater in magnitude. We want to exclude the price from the normalisation, as this is the target column for our machine learning."
   ]
  },
  {
   "cell_type": "code",
   "execution_count": 26,
   "metadata": {
    "scrolled": true
   },
   "outputs": [],
   "source": [
    "# from sklearn import preprocessing\n",
    "\n",
    "# numeric_cols = []\n",
    "# for col in df.drop('price', axis = 1):\n",
    "#     if df[col].dtype in ['float64', 'int64']:\n",
    "#         x = df[[col]].values.astype(float)\n",
    "#         min_max_scaler = preprocessing.MinMaxScaler()\n",
    "#         x_scaled = min_max_scaler.fit_transform(x)\n",
    "#         df[[col]] = x_scaled\n"
   ]
  },
  {
   "cell_type": "markdown",
   "metadata": {},
   "source": [
    "We can now rerun the scatter plot to see if the values are in a similar scale."
   ]
  },
  {
   "cell_type": "code",
   "execution_count": 27,
   "metadata": {
    "scrolled": true
   },
   "outputs": [
    {
     "data": {
      "text/plain": [
       "<matplotlib.collections.PathCollection at 0x1d1ab5e7588>"
      ]
     },
     "execution_count": 27,
     "metadata": {},
     "output_type": "execute_result"
    },
    {
     "data": {
      "image/png": "[encoded data removed]",
      "text/plain": [
       "<Figure size 432x288 with 1 Axes>"
      ]
     },
     "metadata": {
      "needs_background": "light"
     },
     "output_type": "display_data"
    }
   ],
   "source": [
    "plt.xlabel('width')\n",
    "plt.ylabel('curb-weight')\n",
    "plt.scatter(x = df['width'], y = df['curb-weight'])"
   ]
  },
  {
   "cell_type": "markdown",
   "metadata": {},
   "source": [
    "The shape of the plots both look the same, but you will notice that the scale of the values for the **width** and the **curb-weight** is similar."
   ]
  },
  {
   "cell_type": "markdown",
   "metadata": {},
   "source": [
    "Now that we have visualised and compared the **price** column to all of the numeric columns, we will do the same thing and compare the **price** column to the non-numeric columns, also using a PairGrid."
   ]
  },
  {
   "cell_type": "code",
   "execution_count": 28,
   "metadata": {
    "scrolled": false
   },
   "outputs": [
    {
     "name": "stderr",
     "output_type": "stream",
     "text": [
      "C:\\Users\\julesd\\AppData\\Local\\Continuum\\anaconda3\\lib\\site-packages\\scipy\\stats\\stats.py:1713: FutureWarning: Using a non-tuple sequence for multidimensional indexing is deprecated; use `arr[tuple(seq)]` instead of `arr[seq]`. In the future this will be interpreted as an array index, `arr[np.array(seq)]`, which will result either in an error or a different result.\n",
      "  return np.add.reduce(sorted[indexer] * weights, axis=axis) / sumval\n"
     ]
    },
    {
     "data": {
      "text/plain": [
       "<seaborn.axisgrid.PairGrid at 0x1d1ab5e7be0>"
      ]
     },
     "execution_count": 28,
     "metadata": {},
     "output_type": "execute_result"
    },
    {
     "data": {
      "image/png": "[encoded data removed]",
      "text/plain": [
       "<Figure size 450x1800 with 10 Axes>"
      ]
     },
     "metadata": {
      "needs_background": "light"
     },
     "output_type": "display_data"
    }
   ],
   "source": [
    "g = sns.PairGrid(data = df.dropna(), \n",
    "                 x_vars = 'price', \n",
    "                 y_vars= df.select_dtypes(['object']).columns, \n",
    "                 aspect=2.5)\n",
    "g.map(sns.barplot)"
   ]
  },
  {
   "cell_type": "markdown",
   "metadata": {},
   "source": [
    "There are some clear relationships for the non-numeric columns and price. The number of cyclinders seems to have a strong relationship, as does the drive wheels, make and body type. You will also notice that the dataset contains the column **engine-location**, in which all of the values are the same. We can get rid of this column as it provides no meaningful data."
   ]
  },
  {
   "cell_type": "code",
   "execution_count": 29,
   "metadata": {},
   "outputs": [],
   "source": [
    "df.drop('engine-location', axis = 1, inplace = True)"
   ]
  },
  {
   "cell_type": "markdown",
   "metadata": {},
   "source": [
    "When dealing with data, ensuring the data types are corect is vitally important. If you consider the non-numerical data types, you will realise that they are actually categorical types. Therefore, we will convert the data in these columns to the categorical data type."
   ]
  },
  {
   "cell_type": "code",
   "execution_count": 30,
   "metadata": {},
   "outputs": [],
   "source": [
    "categorical = ['fuel-system', 'num-of-cylinders', 'engine-type', \n",
    "               'drive-wheels', 'body-style', 'num-of-doors', \n",
    "               'aspiration', 'fuel-type', 'make']"
   ]
  },
  {
   "cell_type": "code",
   "execution_count": 31,
   "metadata": {
    "scrolled": true
   },
   "outputs": [],
   "source": [
    "df[categorical] = df[categorical].apply(pd.Categorical)"
   ]
  },
  {
   "cell_type": "markdown",
   "metadata": {},
   "source": [
    "Check the data types to see if it is correct."
   ]
  },
  {
   "cell_type": "code",
   "execution_count": 32,
   "metadata": {},
   "outputs": [
    {
     "data": {
      "text/plain": [
       "make                 category\n",
       "fuel-type            category\n",
       "aspiration           category\n",
       "num-of-doors         category\n",
       "body-style           category\n",
       "drive-wheels         category\n",
       "wheel-base            float64\n",
       "length                float64\n",
       "width                 float64\n",
       "height                float64\n",
       "curb-weight             int64\n",
       "engine-type          category\n",
       "num-of-cylinders     category\n",
       "engine-size             int64\n",
       "fuel-system          category\n",
       "bore                  float64\n",
       "stroke                float64\n",
       "compression-ratio     float64\n",
       "horsepower              int64\n",
       "peak-rpm                int64\n",
       "city-mpg                int64\n",
       "highway-mpg             int64\n",
       "price                 float64\n",
       "dtype: object"
      ]
     },
     "execution_count": 32,
     "metadata": {},
     "output_type": "execute_result"
    }
   ],
   "source": [
    "df.dtypes"
   ]
  },
  {
   "cell_type": "code",
   "execution_count": 33,
   "metadata": {},
   "outputs": [],
   "source": [
    "# df[categorical].describe()"
   ]
  },
  {
   "cell_type": "markdown",
   "metadata": {},
   "source": [
    "## Machine Learning\n",
    "\n",
    "Now that we have visualised and cleaned our data, and ensured that there are no nulls, we will apply a machine learning model to it to see if we can determine the price. We will be using the **scikit-learn** package to carry out the machine learning. As price is a continuous variable, this is an example of a regression problem; we would like to determine a particular value. Import the package we will require."
   ]
  },
  {
   "cell_type": "code",
   "execution_count": null,
   "metadata": {},
   "outputs": [],
   "source": []
  },
  {
   "cell_type": "code",
   "execution_count": null,
   "metadata": {},
   "outputs": [],
   "source": []
  },
  {
   "cell_type": "code",
   "execution_count": null,
   "metadata": {},
   "outputs": [],
   "source": []
  },
  {
   "cell_type": "code",
   "execution_count": null,
   "metadata": {},
   "outputs": [],
   "source": []
  },
  {
   "cell_type": "code",
   "execution_count": null,
   "metadata": {
    "scrolled": true
   },
   "outputs": [],
   "source": []
  },
  {
   "cell_type": "markdown",
   "metadata": {},
   "source": [
    "## Feature encoding\n",
    "\n",
    "We are getting an error in this case because we are trying to carry out machine learnig on text fields. This will not work. We need to figure out a way to represent all of the non-numeric columns as numerical values. This is called encoding. Let us get a list of categorical variables in our dataframe."
   ]
  },
  {
   "cell_type": "code",
   "execution_count": 34,
   "metadata": {},
   "outputs": [
    {
     "data": {
      "text/plain": [
       "Index(['make', 'fuel-type', 'aspiration', 'num-of-doors', 'body-style',\n",
       "       'drive-wheels', 'engine-type', 'num-of-cylinders', 'fuel-system'],\n",
       "      dtype='object')"
      ]
     },
     "execution_count": 34,
     "metadata": {},
     "output_type": "execute_result"
    }
   ],
   "source": [
    "categorical_features = df.select_dtypes(include=['category']).columns\n",
    "categorical_features"
   ]
  },
  {
   "cell_type": "code",
   "execution_count": 35,
   "metadata": {
    "scrolled": true
   },
   "outputs": [],
   "source": [
    "cat_df = pd.read_csv('cat_df.csv')\n",
    "num_df = pd.read_csv('num_df.csv')\n"
   ]
  },
  {
   "cell_type": "code",
   "execution_count": 36,
   "metadata": {
    "scrolled": true
   },
   "outputs": [
    {
     "data": {
      "text/html": [
       "<div>\n",
       "<style scoped>\n",
       "    .dataframe tbody tr th:only-of-type {\n",
       "        vertical-align: middle;\n",
       "    }\n",
       "\n",
       "    .dataframe tbody tr th {\n",
       "        vertical-align: top;\n",
       "    }\n",
       "\n",
       "    .dataframe thead th {\n",
       "        text-align: right;\n",
       "    }\n",
       "</style>\n",
       "<table border=\"1\" class=\"dataframe\">\n",
       "  <thead>\n",
       "    <tr style=\"text-align: right;\">\n",
       "      <th></th>\n",
       "      <th>make</th>\n",
       "      <th>fuel-type</th>\n",
       "      <th>aspiration</th>\n",
       "      <th>num-of-doors</th>\n",
       "      <th>body-style</th>\n",
       "      <th>drive-wheels</th>\n",
       "      <th>wheel-base</th>\n",
       "      <th>length</th>\n",
       "      <th>width</th>\n",
       "      <th>height</th>\n",
       "      <th>...</th>\n",
       "      <th>engine-size</th>\n",
       "      <th>fuel-system</th>\n",
       "      <th>bore</th>\n",
       "      <th>stroke</th>\n",
       "      <th>compression-ratio</th>\n",
       "      <th>horsepower</th>\n",
       "      <th>peak-rpm</th>\n",
       "      <th>city-mpg</th>\n",
       "      <th>highway-mpg</th>\n",
       "      <th>price</th>\n",
       "    </tr>\n",
       "  </thead>\n",
       "  <tbody>\n",
       "    <tr>\n",
       "      <th>0</th>\n",
       "      <td>dodge</td>\n",
       "      <td>gas</td>\n",
       "      <td>std</td>\n",
       "      <td>2</td>\n",
       "      <td>hatchback</td>\n",
       "      <td>fwd</td>\n",
       "      <td>93.7</td>\n",
       "      <td>157.3</td>\n",
       "      <td>63.8</td>\n",
       "      <td>50.8</td>\n",
       "      <td>...</td>\n",
       "      <td>90</td>\n",
       "      <td>2bbl</td>\n",
       "      <td>2.97</td>\n",
       "      <td>3.23</td>\n",
       "      <td>9.41</td>\n",
       "      <td>68</td>\n",
       "      <td>5500</td>\n",
       "      <td>37</td>\n",
       "      <td>41</td>\n",
       "      <td>8.625509</td>\n",
       "    </tr>\n",
       "    <tr>\n",
       "      <th>4</th>\n",
       "      <td>plymouth</td>\n",
       "      <td>gas</td>\n",
       "      <td>std</td>\n",
       "      <td>4</td>\n",
       "      <td>sedan</td>\n",
       "      <td>fwd</td>\n",
       "      <td>93.7</td>\n",
       "      <td>167.3</td>\n",
       "      <td>63.8</td>\n",
       "      <td>50.8</td>\n",
       "      <td>...</td>\n",
       "      <td>90</td>\n",
       "      <td>2bbl</td>\n",
       "      <td>2.97</td>\n",
       "      <td>3.23</td>\n",
       "      <td>9.40</td>\n",
       "      <td>68</td>\n",
       "      <td>5500</td>\n",
       "      <td>31</td>\n",
       "      <td>38</td>\n",
       "      <td>8.808668</td>\n",
       "    </tr>\n",
       "    <tr>\n",
       "      <th>3</th>\n",
       "      <td>nissan</td>\n",
       "      <td>gas</td>\n",
       "      <td>std</td>\n",
       "      <td>2</td>\n",
       "      <td>sedan</td>\n",
       "      <td>fwd</td>\n",
       "      <td>94.5</td>\n",
       "      <td>165.3</td>\n",
       "      <td>63.8</td>\n",
       "      <td>54.5</td>\n",
       "      <td>...</td>\n",
       "      <td>97</td>\n",
       "      <td>2bbl</td>\n",
       "      <td>3.15</td>\n",
       "      <td>3.29</td>\n",
       "      <td>9.40</td>\n",
       "      <td>69</td>\n",
       "      <td>5200</td>\n",
       "      <td>31</td>\n",
       "      <td>37</td>\n",
       "      <td>8.895493</td>\n",
       "    </tr>\n",
       "    <tr>\n",
       "      <th>1</th>\n",
       "      <td>honda</td>\n",
       "      <td>gas</td>\n",
       "      <td>std</td>\n",
       "      <td>2</td>\n",
       "      <td>hatchback</td>\n",
       "      <td>fwd</td>\n",
       "      <td>96.5</td>\n",
       "      <td>167.5</td>\n",
       "      <td>65.2</td>\n",
       "      <td>53.3</td>\n",
       "      <td>...</td>\n",
       "      <td>110</td>\n",
       "      <td>1bbl</td>\n",
       "      <td>3.15</td>\n",
       "      <td>3.58</td>\n",
       "      <td>9.00</td>\n",
       "      <td>86</td>\n",
       "      <td>5800</td>\n",
       "      <td>27</td>\n",
       "      <td>33</td>\n",
       "      <td>8.973985</td>\n",
       "    </tr>\n",
       "    <tr>\n",
       "      <th>2</th>\n",
       "      <td>mazda</td>\n",
       "      <td>gas</td>\n",
       "      <td>std</td>\n",
       "      <td>2</td>\n",
       "      <td>hatchback</td>\n",
       "      <td>fwd</td>\n",
       "      <td>98.8</td>\n",
       "      <td>177.8</td>\n",
       "      <td>66.5</td>\n",
       "      <td>53.7</td>\n",
       "      <td>...</td>\n",
       "      <td>122</td>\n",
       "      <td>2bbl</td>\n",
       "      <td>3.39</td>\n",
       "      <td>3.39</td>\n",
       "      <td>8.60</td>\n",
       "      <td>84</td>\n",
       "      <td>4800</td>\n",
       "      <td>26</td>\n",
       "      <td>32</td>\n",
       "      <td>9.087608</td>\n",
       "    </tr>\n",
       "    <tr>\n",
       "      <th>6</th>\n",
       "      <td>volkswagen</td>\n",
       "      <td>gas</td>\n",
       "      <td>std</td>\n",
       "      <td>4</td>\n",
       "      <td>sedan</td>\n",
       "      <td>fwd</td>\n",
       "      <td>97.3</td>\n",
       "      <td>171.7</td>\n",
       "      <td>65.5</td>\n",
       "      <td>55.7</td>\n",
       "      <td>...</td>\n",
       "      <td>109</td>\n",
       "      <td>mpfi</td>\n",
       "      <td>3.19</td>\n",
       "      <td>3.40</td>\n",
       "      <td>10.00</td>\n",
       "      <td>100</td>\n",
       "      <td>5500</td>\n",
       "      <td>26</td>\n",
       "      <td>32</td>\n",
       "      <td>9.209840</td>\n",
       "    </tr>\n",
       "    <tr>\n",
       "      <th>7</th>\n",
       "      <td>toyota</td>\n",
       "      <td>diesel</td>\n",
       "      <td>turbo</td>\n",
       "      <td>4</td>\n",
       "      <td>sedan</td>\n",
       "      <td>fwd</td>\n",
       "      <td>102.4</td>\n",
       "      <td>175.6</td>\n",
       "      <td>66.5</td>\n",
       "      <td>54.9</td>\n",
       "      <td>...</td>\n",
       "      <td>110</td>\n",
       "      <td>idi</td>\n",
       "      <td>3.27</td>\n",
       "      <td>3.35</td>\n",
       "      <td>22.50</td>\n",
       "      <td>73</td>\n",
       "      <td>4500</td>\n",
       "      <td>30</td>\n",
       "      <td>33</td>\n",
       "      <td>9.277812</td>\n",
       "    </tr>\n",
       "    <tr>\n",
       "      <th>8</th>\n",
       "      <td>peugot</td>\n",
       "      <td>diesel</td>\n",
       "      <td>turbo</td>\n",
       "      <td>4</td>\n",
       "      <td>wagon</td>\n",
       "      <td>rwd</td>\n",
       "      <td>114.2</td>\n",
       "      <td>198.9</td>\n",
       "      <td>68.4</td>\n",
       "      <td>58.7</td>\n",
       "      <td>...</td>\n",
       "      <td>152</td>\n",
       "      <td>idi</td>\n",
       "      <td>3.70</td>\n",
       "      <td>3.52</td>\n",
       "      <td>21.00</td>\n",
       "      <td>95</td>\n",
       "      <td>4150</td>\n",
       "      <td>25</td>\n",
       "      <td>25</td>\n",
       "      <td>9.536762</td>\n",
       "    </tr>\n",
       "    <tr>\n",
       "      <th>5</th>\n",
       "      <td>toyota</td>\n",
       "      <td>gas</td>\n",
       "      <td>std</td>\n",
       "      <td>2</td>\n",
       "      <td>hatchback</td>\n",
       "      <td>rwd</td>\n",
       "      <td>102.9</td>\n",
       "      <td>183.5</td>\n",
       "      <td>67.7</td>\n",
       "      <td>52.0</td>\n",
       "      <td>...</td>\n",
       "      <td>171</td>\n",
       "      <td>mpfi</td>\n",
       "      <td>3.27</td>\n",
       "      <td>3.35</td>\n",
       "      <td>9.30</td>\n",
       "      <td>161</td>\n",
       "      <td>5200</td>\n",
       "      <td>19</td>\n",
       "      <td>24</td>\n",
       "      <td>9.680219</td>\n",
       "    </tr>\n",
       "  </tbody>\n",
       "</table>\n",
       "<p>9 rows × 23 columns</p>\n",
       "</div>"
      ],
      "text/plain": [
       "         make fuel-type aspiration num-of-doors body-style drive-wheels  \\\n",
       "0       dodge       gas        std            2  hatchback          fwd   \n",
       "4    plymouth       gas        std            4      sedan          fwd   \n",
       "3      nissan       gas        std            2      sedan          fwd   \n",
       "1       honda       gas        std            2  hatchback          fwd   \n",
       "2       mazda       gas        std            2  hatchback          fwd   \n",
       "6  volkswagen       gas        std            4      sedan          fwd   \n",
       "7      toyota    diesel      turbo            4      sedan          fwd   \n",
       "8      peugot    diesel      turbo            4      wagon          rwd   \n",
       "5      toyota       gas        std            2  hatchback          rwd   \n",
       "\n",
       "   wheel-base  length  width  height  ...  engine-size fuel-system  bore  \\\n",
       "0        93.7   157.3   63.8    50.8  ...           90        2bbl  2.97   \n",
       "4        93.7   167.3   63.8    50.8  ...           90        2bbl  2.97   \n",
       "3        94.5   165.3   63.8    54.5  ...           97        2bbl  3.15   \n",
       "1        96.5   167.5   65.2    53.3  ...          110        1bbl  3.15   \n",
       "2        98.8   177.8   66.5    53.7  ...          122        2bbl  3.39   \n",
       "6        97.3   171.7   65.5    55.7  ...          109        mpfi  3.19   \n",
       "7       102.4   175.6   66.5    54.9  ...          110         idi  3.27   \n",
       "8       114.2   198.9   68.4    58.7  ...          152         idi  3.70   \n",
       "5       102.9   183.5   67.7    52.0  ...          171        mpfi  3.27   \n",
       "\n",
       "   stroke compression-ratio  horsepower  peak-rpm  city-mpg  highway-mpg  \\\n",
       "0    3.23              9.41          68      5500        37           41   \n",
       "4    3.23              9.40          68      5500        31           38   \n",
       "3    3.29              9.40          69      5200        31           37   \n",
       "1    3.58              9.00          86      5800        27           33   \n",
       "2    3.39              8.60          84      4800        26           32   \n",
       "6    3.40             10.00         100      5500        26           32   \n",
       "7    3.35             22.50          73      4500        30           33   \n",
       "8    3.52             21.00          95      4150        25           25   \n",
       "5    3.35              9.30         161      5200        19           24   \n",
       "\n",
       "      price  \n",
       "0  8.625509  \n",
       "4  8.808668  \n",
       "3  8.895493  \n",
       "1  8.973985  \n",
       "2  9.087608  \n",
       "6  9.209840  \n",
       "7  9.277812  \n",
       "8  9.536762  \n",
       "5  9.680219  \n",
       "\n",
       "[9 rows x 23 columns]"
      ]
     },
     "execution_count": 36,
     "metadata": {},
     "output_type": "execute_result"
    }
   ],
   "source": [
    "for key in dict(num_df).keys():    \n",
    "    d = {value:key for key, value in dict(num_df[key]).items()}\n",
    "    df[key].replace(d, inplace = True)\n",
    "df"
   ]
  },
  {
   "cell_type": "code",
   "execution_count": null,
   "metadata": {},
   "outputs": [],
   "source": []
  },
  {
   "cell_type": "code",
   "execution_count": null,
   "metadata": {},
   "outputs": [],
   "source": []
  },
  {
   "cell_type": "code",
   "execution_count": 37,
   "metadata": {
    "scrolled": true
   },
   "outputs": [
    {
     "data": {
      "text/html": [
       "<div>\n",
       "<style scoped>\n",
       "    .dataframe tbody tr th:only-of-type {\n",
       "        vertical-align: middle;\n",
       "    }\n",
       "\n",
       "    .dataframe tbody tr th {\n",
       "        vertical-align: top;\n",
       "    }\n",
       "\n",
       "    .dataframe thead th {\n",
       "        text-align: right;\n",
       "    }\n",
       "</style>\n",
       "<table border=\"1\" class=\"dataframe\">\n",
       "  <thead>\n",
       "    <tr style=\"text-align: right;\">\n",
       "      <th></th>\n",
       "      <th>make</th>\n",
       "      <th>fuel-type</th>\n",
       "      <th>aspiration</th>\n",
       "      <th>num-of-doors</th>\n",
       "      <th>body-style</th>\n",
       "      <th>drive-wheels</th>\n",
       "      <th>wheel-base</th>\n",
       "      <th>length</th>\n",
       "      <th>width</th>\n",
       "      <th>height</th>\n",
       "      <th>...</th>\n",
       "      <th>engine-size</th>\n",
       "      <th>fuel-system</th>\n",
       "      <th>bore</th>\n",
       "      <th>stroke</th>\n",
       "      <th>compression-ratio</th>\n",
       "      <th>horsepower</th>\n",
       "      <th>peak-rpm</th>\n",
       "      <th>city-mpg</th>\n",
       "      <th>highway-mpg</th>\n",
       "      <th>price</th>\n",
       "    </tr>\n",
       "  </thead>\n",
       "  <tbody>\n",
       "    <tr>\n",
       "      <th>0</th>\n",
       "      <td>3</td>\n",
       "      <td>1</td>\n",
       "      <td>0</td>\n",
       "      <td>2</td>\n",
       "      <td>2</td>\n",
       "      <td>1</td>\n",
       "      <td>93.7</td>\n",
       "      <td>157.3</td>\n",
       "      <td>63.8</td>\n",
       "      <td>50.8</td>\n",
       "      <td>...</td>\n",
       "      <td>90</td>\n",
       "      <td>1</td>\n",
       "      <td>2.97</td>\n",
       "      <td>3.23</td>\n",
       "      <td>9.41</td>\n",
       "      <td>68</td>\n",
       "      <td>5500</td>\n",
       "      <td>37</td>\n",
       "      <td>41</td>\n",
       "      <td>8.625509</td>\n",
       "    </tr>\n",
       "    <tr>\n",
       "      <th>4</th>\n",
       "      <td>11</td>\n",
       "      <td>1</td>\n",
       "      <td>0</td>\n",
       "      <td>4</td>\n",
       "      <td>3</td>\n",
       "      <td>1</td>\n",
       "      <td>93.7</td>\n",
       "      <td>167.3</td>\n",
       "      <td>63.8</td>\n",
       "      <td>50.8</td>\n",
       "      <td>...</td>\n",
       "      <td>90</td>\n",
       "      <td>1</td>\n",
       "      <td>2.97</td>\n",
       "      <td>3.23</td>\n",
       "      <td>9.40</td>\n",
       "      <td>68</td>\n",
       "      <td>5500</td>\n",
       "      <td>31</td>\n",
       "      <td>38</td>\n",
       "      <td>8.808668</td>\n",
       "    </tr>\n",
       "    <tr>\n",
       "      <th>3</th>\n",
       "      <td>9</td>\n",
       "      <td>1</td>\n",
       "      <td>0</td>\n",
       "      <td>2</td>\n",
       "      <td>3</td>\n",
       "      <td>1</td>\n",
       "      <td>94.5</td>\n",
       "      <td>165.3</td>\n",
       "      <td>63.8</td>\n",
       "      <td>54.5</td>\n",
       "      <td>...</td>\n",
       "      <td>97</td>\n",
       "      <td>1</td>\n",
       "      <td>3.15</td>\n",
       "      <td>3.29</td>\n",
       "      <td>9.40</td>\n",
       "      <td>69</td>\n",
       "      <td>5200</td>\n",
       "      <td>31</td>\n",
       "      <td>37</td>\n",
       "      <td>8.895493</td>\n",
       "    </tr>\n",
       "    <tr>\n",
       "      <th>1</th>\n",
       "      <td>4</td>\n",
       "      <td>1</td>\n",
       "      <td>0</td>\n",
       "      <td>2</td>\n",
       "      <td>2</td>\n",
       "      <td>1</td>\n",
       "      <td>96.5</td>\n",
       "      <td>167.5</td>\n",
       "      <td>65.2</td>\n",
       "      <td>53.3</td>\n",
       "      <td>...</td>\n",
       "      <td>110</td>\n",
       "      <td>0</td>\n",
       "      <td>3.15</td>\n",
       "      <td>3.58</td>\n",
       "      <td>9.00</td>\n",
       "      <td>86</td>\n",
       "      <td>5800</td>\n",
       "      <td>27</td>\n",
       "      <td>33</td>\n",
       "      <td>8.973985</td>\n",
       "    </tr>\n",
       "    <tr>\n",
       "      <th>2</th>\n",
       "      <td>6</td>\n",
       "      <td>1</td>\n",
       "      <td>0</td>\n",
       "      <td>2</td>\n",
       "      <td>2</td>\n",
       "      <td>1</td>\n",
       "      <td>98.8</td>\n",
       "      <td>177.8</td>\n",
       "      <td>66.5</td>\n",
       "      <td>53.7</td>\n",
       "      <td>...</td>\n",
       "      <td>122</td>\n",
       "      <td>1</td>\n",
       "      <td>3.39</td>\n",
       "      <td>3.39</td>\n",
       "      <td>8.60</td>\n",
       "      <td>84</td>\n",
       "      <td>4800</td>\n",
       "      <td>26</td>\n",
       "      <td>32</td>\n",
       "      <td>9.087608</td>\n",
       "    </tr>\n",
       "    <tr>\n",
       "      <th>6</th>\n",
       "      <td>16</td>\n",
       "      <td>1</td>\n",
       "      <td>0</td>\n",
       "      <td>4</td>\n",
       "      <td>3</td>\n",
       "      <td>1</td>\n",
       "      <td>97.3</td>\n",
       "      <td>171.7</td>\n",
       "      <td>65.5</td>\n",
       "      <td>55.7</td>\n",
       "      <td>...</td>\n",
       "      <td>109</td>\n",
       "      <td>4</td>\n",
       "      <td>3.19</td>\n",
       "      <td>3.40</td>\n",
       "      <td>10.00</td>\n",
       "      <td>100</td>\n",
       "      <td>5500</td>\n",
       "      <td>26</td>\n",
       "      <td>32</td>\n",
       "      <td>9.209840</td>\n",
       "    </tr>\n",
       "    <tr>\n",
       "      <th>7</th>\n",
       "      <td>15</td>\n",
       "      <td>0</td>\n",
       "      <td>1</td>\n",
       "      <td>4</td>\n",
       "      <td>3</td>\n",
       "      <td>1</td>\n",
       "      <td>102.4</td>\n",
       "      <td>175.6</td>\n",
       "      <td>66.5</td>\n",
       "      <td>54.9</td>\n",
       "      <td>...</td>\n",
       "      <td>110</td>\n",
       "      <td>2</td>\n",
       "      <td>3.27</td>\n",
       "      <td>3.35</td>\n",
       "      <td>22.50</td>\n",
       "      <td>73</td>\n",
       "      <td>4500</td>\n",
       "      <td>30</td>\n",
       "      <td>33</td>\n",
       "      <td>9.277812</td>\n",
       "    </tr>\n",
       "    <tr>\n",
       "      <th>8</th>\n",
       "      <td>10</td>\n",
       "      <td>0</td>\n",
       "      <td>1</td>\n",
       "      <td>4</td>\n",
       "      <td>4</td>\n",
       "      <td>2</td>\n",
       "      <td>114.2</td>\n",
       "      <td>198.9</td>\n",
       "      <td>68.4</td>\n",
       "      <td>58.7</td>\n",
       "      <td>...</td>\n",
       "      <td>152</td>\n",
       "      <td>2</td>\n",
       "      <td>3.70</td>\n",
       "      <td>3.52</td>\n",
       "      <td>21.00</td>\n",
       "      <td>95</td>\n",
       "      <td>4150</td>\n",
       "      <td>25</td>\n",
       "      <td>25</td>\n",
       "      <td>9.536762</td>\n",
       "    </tr>\n",
       "    <tr>\n",
       "      <th>5</th>\n",
       "      <td>15</td>\n",
       "      <td>1</td>\n",
       "      <td>0</td>\n",
       "      <td>2</td>\n",
       "      <td>2</td>\n",
       "      <td>2</td>\n",
       "      <td>102.9</td>\n",
       "      <td>183.5</td>\n",
       "      <td>67.7</td>\n",
       "      <td>52.0</td>\n",
       "      <td>...</td>\n",
       "      <td>171</td>\n",
       "      <td>4</td>\n",
       "      <td>3.27</td>\n",
       "      <td>3.35</td>\n",
       "      <td>9.30</td>\n",
       "      <td>161</td>\n",
       "      <td>5200</td>\n",
       "      <td>19</td>\n",
       "      <td>24</td>\n",
       "      <td>9.680219</td>\n",
       "    </tr>\n",
       "  </tbody>\n",
       "</table>\n",
       "<p>9 rows × 23 columns</p>\n",
       "</div>"
      ],
      "text/plain": [
       "  make fuel-type aspiration num-of-doors body-style drive-wheels  wheel-base  \\\n",
       "0    3         1          0            2          2            1        93.7   \n",
       "4   11         1          0            4          3            1        93.7   \n",
       "3    9         1          0            2          3            1        94.5   \n",
       "1    4         1          0            2          2            1        96.5   \n",
       "2    6         1          0            2          2            1        98.8   \n",
       "6   16         1          0            4          3            1        97.3   \n",
       "7   15         0          1            4          3            1       102.4   \n",
       "8   10         0          1            4          4            2       114.2   \n",
       "5   15         1          0            2          2            2       102.9   \n",
       "\n",
       "   length  width  height  ...  engine-size fuel-system  bore  stroke  \\\n",
       "0   157.3   63.8    50.8  ...           90           1  2.97    3.23   \n",
       "4   167.3   63.8    50.8  ...           90           1  2.97    3.23   \n",
       "3   165.3   63.8    54.5  ...           97           1  3.15    3.29   \n",
       "1   167.5   65.2    53.3  ...          110           0  3.15    3.58   \n",
       "2   177.8   66.5    53.7  ...          122           1  3.39    3.39   \n",
       "6   171.7   65.5    55.7  ...          109           4  3.19    3.40   \n",
       "7   175.6   66.5    54.9  ...          110           2  3.27    3.35   \n",
       "8   198.9   68.4    58.7  ...          152           2  3.70    3.52   \n",
       "5   183.5   67.7    52.0  ...          171           4  3.27    3.35   \n",
       "\n",
       "  compression-ratio  horsepower  peak-rpm  city-mpg  highway-mpg     price  \n",
       "0              9.41          68      5500        37           41  8.625509  \n",
       "4              9.40          68      5500        31           38  8.808668  \n",
       "3              9.40          69      5200        31           37  8.895493  \n",
       "1              9.00          86      5800        27           33  8.973985  \n",
       "2              8.60          84      4800        26           32  9.087608  \n",
       "6             10.00         100      5500        26           32  9.209840  \n",
       "7             22.50          73      4500        30           33  9.277812  \n",
       "8             21.00          95      4150        25           25  9.536762  \n",
       "5              9.30         161      5200        19           24  9.680219  \n",
       "\n",
       "[9 rows x 23 columns]"
      ]
     },
     "execution_count": 37,
     "metadata": {},
     "output_type": "execute_result"
    }
   ],
   "source": [
    "for key in dict(cat_df).keys():    \n",
    "    d = {value:key for key, value in dict(cat_df[key]).items()}\n",
    "    df[key].replace(d, inplace = True)\n",
    "df"
   ]
  },
  {
   "cell_type": "code",
   "execution_count": null,
   "metadata": {},
   "outputs": [],
   "source": []
  },
  {
   "cell_type": "code",
   "execution_count": null,
   "metadata": {},
   "outputs": [],
   "source": []
  },
  {
   "cell_type": "code",
   "execution_count": null,
   "metadata": {},
   "outputs": [],
   "source": []
  },
  {
   "cell_type": "code",
   "execution_count": 38,
   "metadata": {},
   "outputs": [],
   "source": [
    "import pandas as pd\n",
    "import pickle\n",
    "from io import StringIO\n",
    "from io import BytesIO\n",
    "import codecs"
   ]
  },
  {
   "cell_type": "code",
   "execution_count": 39,
   "metadata": {},
   "outputs": [],
   "source": [
    "pickle_df = pd.read_csv('pickle.csv')\n",
    "\n",
    "import array as arr\n",
    "lst = pickle_df['a'].values.tolist()\n",
    "model_pickle_from_SQL = arr.array('B', lst).tostring()"
   ]
  },
  {
   "cell_type": "code",
   "execution_count": 40,
   "metadata": {},
   "outputs": [],
   "source": [
    "model = pickle.loads(model_pickle_from_SQL)"
   ]
  },
  {
   "cell_type": "code",
   "execution_count": 41,
   "metadata": {
    "scrolled": true
   },
   "outputs": [],
   "source": [
    "x = df.drop('price', axis = 1)\n",
    "y = df['price']\n"
   ]
  },
  {
   "cell_type": "code",
   "execution_count": 42,
   "metadata": {
    "scrolled": true
   },
   "outputs": [
    {
     "data": {
      "text/html": [
       "<div>\n",
       "<style scoped>\n",
       "    .dataframe tbody tr th:only-of-type {\n",
       "        vertical-align: middle;\n",
       "    }\n",
       "\n",
       "    .dataframe tbody tr th {\n",
       "        vertical-align: top;\n",
       "    }\n",
       "\n",
       "    .dataframe thead th {\n",
       "        text-align: right;\n",
       "    }\n",
       "</style>\n",
       "<table border=\"1\" class=\"dataframe\">\n",
       "  <thead>\n",
       "    <tr style=\"text-align: right;\">\n",
       "      <th></th>\n",
       "      <th>make</th>\n",
       "      <th>fuel-type</th>\n",
       "      <th>aspiration</th>\n",
       "      <th>num-of-doors</th>\n",
       "      <th>body-style</th>\n",
       "      <th>drive-wheels</th>\n",
       "      <th>wheel-base</th>\n",
       "      <th>length</th>\n",
       "      <th>width</th>\n",
       "      <th>height</th>\n",
       "      <th>...</th>\n",
       "      <th>num-of-cylinders</th>\n",
       "      <th>engine-size</th>\n",
       "      <th>fuel-system</th>\n",
       "      <th>bore</th>\n",
       "      <th>stroke</th>\n",
       "      <th>compression-ratio</th>\n",
       "      <th>horsepower</th>\n",
       "      <th>peak-rpm</th>\n",
       "      <th>city-mpg</th>\n",
       "      <th>highway-mpg</th>\n",
       "    </tr>\n",
       "  </thead>\n",
       "  <tbody>\n",
       "    <tr>\n",
       "      <th>0</th>\n",
       "      <td>3</td>\n",
       "      <td>1</td>\n",
       "      <td>0</td>\n",
       "      <td>2</td>\n",
       "      <td>2</td>\n",
       "      <td>1</td>\n",
       "      <td>93.7</td>\n",
       "      <td>157.3</td>\n",
       "      <td>63.8</td>\n",
       "      <td>50.8</td>\n",
       "      <td>...</td>\n",
       "      <td>4</td>\n",
       "      <td>90</td>\n",
       "      <td>1</td>\n",
       "      <td>2.97</td>\n",
       "      <td>3.23</td>\n",
       "      <td>9.41</td>\n",
       "      <td>68</td>\n",
       "      <td>5500</td>\n",
       "      <td>37</td>\n",
       "      <td>41</td>\n",
       "    </tr>\n",
       "    <tr>\n",
       "      <th>4</th>\n",
       "      <td>11</td>\n",
       "      <td>1</td>\n",
       "      <td>0</td>\n",
       "      <td>4</td>\n",
       "      <td>3</td>\n",
       "      <td>1</td>\n",
       "      <td>93.7</td>\n",
       "      <td>167.3</td>\n",
       "      <td>63.8</td>\n",
       "      <td>50.8</td>\n",
       "      <td>...</td>\n",
       "      <td>4</td>\n",
       "      <td>90</td>\n",
       "      <td>1</td>\n",
       "      <td>2.97</td>\n",
       "      <td>3.23</td>\n",
       "      <td>9.40</td>\n",
       "      <td>68</td>\n",
       "      <td>5500</td>\n",
       "      <td>31</td>\n",
       "      <td>38</td>\n",
       "    </tr>\n",
       "    <tr>\n",
       "      <th>3</th>\n",
       "      <td>9</td>\n",
       "      <td>1</td>\n",
       "      <td>0</td>\n",
       "      <td>2</td>\n",
       "      <td>3</td>\n",
       "      <td>1</td>\n",
       "      <td>94.5</td>\n",
       "      <td>165.3</td>\n",
       "      <td>63.8</td>\n",
       "      <td>54.5</td>\n",
       "      <td>...</td>\n",
       "      <td>4</td>\n",
       "      <td>97</td>\n",
       "      <td>1</td>\n",
       "      <td>3.15</td>\n",
       "      <td>3.29</td>\n",
       "      <td>9.40</td>\n",
       "      <td>69</td>\n",
       "      <td>5200</td>\n",
       "      <td>31</td>\n",
       "      <td>37</td>\n",
       "    </tr>\n",
       "    <tr>\n",
       "      <th>1</th>\n",
       "      <td>4</td>\n",
       "      <td>1</td>\n",
       "      <td>0</td>\n",
       "      <td>2</td>\n",
       "      <td>2</td>\n",
       "      <td>1</td>\n",
       "      <td>96.5</td>\n",
       "      <td>167.5</td>\n",
       "      <td>65.2</td>\n",
       "      <td>53.3</td>\n",
       "      <td>...</td>\n",
       "      <td>4</td>\n",
       "      <td>110</td>\n",
       "      <td>0</td>\n",
       "      <td>3.15</td>\n",
       "      <td>3.58</td>\n",
       "      <td>9.00</td>\n",
       "      <td>86</td>\n",
       "      <td>5800</td>\n",
       "      <td>27</td>\n",
       "      <td>33</td>\n",
       "    </tr>\n",
       "    <tr>\n",
       "      <th>2</th>\n",
       "      <td>6</td>\n",
       "      <td>1</td>\n",
       "      <td>0</td>\n",
       "      <td>2</td>\n",
       "      <td>2</td>\n",
       "      <td>1</td>\n",
       "      <td>98.8</td>\n",
       "      <td>177.8</td>\n",
       "      <td>66.5</td>\n",
       "      <td>53.7</td>\n",
       "      <td>...</td>\n",
       "      <td>4</td>\n",
       "      <td>122</td>\n",
       "      <td>1</td>\n",
       "      <td>3.39</td>\n",
       "      <td>3.39</td>\n",
       "      <td>8.60</td>\n",
       "      <td>84</td>\n",
       "      <td>4800</td>\n",
       "      <td>26</td>\n",
       "      <td>32</td>\n",
       "    </tr>\n",
       "    <tr>\n",
       "      <th>6</th>\n",
       "      <td>16</td>\n",
       "      <td>1</td>\n",
       "      <td>0</td>\n",
       "      <td>4</td>\n",
       "      <td>3</td>\n",
       "      <td>1</td>\n",
       "      <td>97.3</td>\n",
       "      <td>171.7</td>\n",
       "      <td>65.5</td>\n",
       "      <td>55.7</td>\n",
       "      <td>...</td>\n",
       "      <td>4</td>\n",
       "      <td>109</td>\n",
       "      <td>4</td>\n",
       "      <td>3.19</td>\n",
       "      <td>3.40</td>\n",
       "      <td>10.00</td>\n",
       "      <td>100</td>\n",
       "      <td>5500</td>\n",
       "      <td>26</td>\n",
       "      <td>32</td>\n",
       "    </tr>\n",
       "    <tr>\n",
       "      <th>7</th>\n",
       "      <td>15</td>\n",
       "      <td>0</td>\n",
       "      <td>1</td>\n",
       "      <td>4</td>\n",
       "      <td>3</td>\n",
       "      <td>1</td>\n",
       "      <td>102.4</td>\n",
       "      <td>175.6</td>\n",
       "      <td>66.5</td>\n",
       "      <td>54.9</td>\n",
       "      <td>...</td>\n",
       "      <td>4</td>\n",
       "      <td>110</td>\n",
       "      <td>2</td>\n",
       "      <td>3.27</td>\n",
       "      <td>3.35</td>\n",
       "      <td>22.50</td>\n",
       "      <td>73</td>\n",
       "      <td>4500</td>\n",
       "      <td>30</td>\n",
       "      <td>33</td>\n",
       "    </tr>\n",
       "    <tr>\n",
       "      <th>8</th>\n",
       "      <td>10</td>\n",
       "      <td>0</td>\n",
       "      <td>1</td>\n",
       "      <td>4</td>\n",
       "      <td>4</td>\n",
       "      <td>2</td>\n",
       "      <td>114.2</td>\n",
       "      <td>198.9</td>\n",
       "      <td>68.4</td>\n",
       "      <td>58.7</td>\n",
       "      <td>...</td>\n",
       "      <td>4</td>\n",
       "      <td>152</td>\n",
       "      <td>2</td>\n",
       "      <td>3.70</td>\n",
       "      <td>3.52</td>\n",
       "      <td>21.00</td>\n",
       "      <td>95</td>\n",
       "      <td>4150</td>\n",
       "      <td>25</td>\n",
       "      <td>25</td>\n",
       "    </tr>\n",
       "    <tr>\n",
       "      <th>5</th>\n",
       "      <td>15</td>\n",
       "      <td>1</td>\n",
       "      <td>0</td>\n",
       "      <td>2</td>\n",
       "      <td>2</td>\n",
       "      <td>2</td>\n",
       "      <td>102.9</td>\n",
       "      <td>183.5</td>\n",
       "      <td>67.7</td>\n",
       "      <td>52.0</td>\n",
       "      <td>...</td>\n",
       "      <td>6</td>\n",
       "      <td>171</td>\n",
       "      <td>4</td>\n",
       "      <td>3.27</td>\n",
       "      <td>3.35</td>\n",
       "      <td>9.30</td>\n",
       "      <td>161</td>\n",
       "      <td>5200</td>\n",
       "      <td>19</td>\n",
       "      <td>24</td>\n",
       "    </tr>\n",
       "  </tbody>\n",
       "</table>\n",
       "<p>9 rows × 22 columns</p>\n",
       "</div>"
      ],
      "text/plain": [
       "  make fuel-type aspiration num-of-doors body-style drive-wheels  wheel-base  \\\n",
       "0    3         1          0            2          2            1        93.7   \n",
       "4   11         1          0            4          3            1        93.7   \n",
       "3    9         1          0            2          3            1        94.5   \n",
       "1    4         1          0            2          2            1        96.5   \n",
       "2    6         1          0            2          2            1        98.8   \n",
       "6   16         1          0            4          3            1        97.3   \n",
       "7   15         0          1            4          3            1       102.4   \n",
       "8   10         0          1            4          4            2       114.2   \n",
       "5   15         1          0            2          2            2       102.9   \n",
       "\n",
       "   length  width  height  ...  num-of-cylinders engine-size fuel-system  bore  \\\n",
       "0   157.3   63.8    50.8  ...                 4          90           1  2.97   \n",
       "4   167.3   63.8    50.8  ...                 4          90           1  2.97   \n",
       "3   165.3   63.8    54.5  ...                 4          97           1  3.15   \n",
       "1   167.5   65.2    53.3  ...                 4         110           0  3.15   \n",
       "2   177.8   66.5    53.7  ...                 4         122           1  3.39   \n",
       "6   171.7   65.5    55.7  ...                 4         109           4  3.19   \n",
       "7   175.6   66.5    54.9  ...                 4         110           2  3.27   \n",
       "8   198.9   68.4    58.7  ...                 4         152           2  3.70   \n",
       "5   183.5   67.7    52.0  ...                 6         171           4  3.27   \n",
       "\n",
       "  stroke  compression-ratio  horsepower  peak-rpm  city-mpg  highway-mpg  \n",
       "0   3.23               9.41          68      5500        37           41  \n",
       "4   3.23               9.40          68      5500        31           38  \n",
       "3   3.29               9.40          69      5200        31           37  \n",
       "1   3.58               9.00          86      5800        27           33  \n",
       "2   3.39               8.60          84      4800        26           32  \n",
       "6   3.40              10.00         100      5500        26           32  \n",
       "7   3.35              22.50          73      4500        30           33  \n",
       "8   3.52              21.00          95      4150        25           25  \n",
       "5   3.35               9.30         161      5200        19           24  \n",
       "\n",
       "[9 rows x 22 columns]"
      ]
     },
     "execution_count": 42,
     "metadata": {},
     "output_type": "execute_result"
    }
   ],
   "source": [
    "x"
   ]
  },
  {
   "cell_type": "code",
   "execution_count": 43,
   "metadata": {
    "scrolled": true
   },
   "outputs": [],
   "source": [
    "pred = model.predict(x)"
   ]
  },
  {
   "cell_type": "code",
   "execution_count": 44,
   "metadata": {},
   "outputs": [
    {
     "data": {
      "text/plain": [
       "array([8.7768692 , 8.82444654, 8.77114836, 8.99369605, 9.14345762,\n",
       "       9.16419531, 9.2324225 , 9.79279412, 9.78064655])"
      ]
     },
     "execution_count": 44,
     "metadata": {},
     "output_type": "execute_result"
    }
   ],
   "source": [
    "pred"
   ]
  },
  {
   "cell_type": "code",
   "execution_count": 45,
   "metadata": {
    "scrolled": true
   },
   "outputs": [
    {
     "data": {
      "text/plain": [
       "0    8.625509\n",
       "4    8.808668\n",
       "3    8.895493\n",
       "1    8.973985\n",
       "2    9.087608\n",
       "6    9.209840\n",
       "7    9.277812\n",
       "8    9.536762\n",
       "5    9.680219\n",
       "Name: price, dtype: float64"
      ]
     },
     "execution_count": 45,
     "metadata": {},
     "output_type": "execute_result"
    }
   ],
   "source": [
    "y"
   ]
  },
  {
   "cell_type": "code",
   "execution_count": 46,
   "metadata": {},
   "outputs": [
    {
     "data": {
      "text/plain": [
       "0.8695742580425835"
      ]
     },
     "execution_count": 46,
     "metadata": {},
     "output_type": "execute_result"
    }
   ],
   "source": [
    "model.score(x, y)"
   ]
  },
  {
   "cell_type": "code",
   "execution_count": 47,
   "metadata": {
    "scrolled": true
   },
   "outputs": [],
   "source": [
    "from sklearn import metrics"
   ]
  },
  {
   "cell_type": "code",
   "execution_count": 48,
   "metadata": {},
   "outputs": [
    {
     "name": "stdout",
     "output_type": "stream",
     "text": [
      "Mean Absolute Error =  1021.18\n",
      "Mean Squared Error =  1545.18\n",
      "R-Squared Value =  0.7711\n"
     ]
    }
   ],
   "source": [
    "MAE = metrics.mean_absolute_error(np.exp(y), np.exp(pred))\n",
    "MSE = metrics.mean_squared_error(np.exp(y), np.exp(pred))\n",
    "R2 = metrics.r2_score(np.exp(y), np.exp(pred))\n",
    "\n",
    "print(f'Mean Absolute Error = ', np.round(MAE, 2))\n",
    "print(f'Mean Squared Error = ', np.round(np.sqrt(MSE), 2))\n",
    "print(f'R-Squared Value = ', np.round(R2, 4))"
   ]
  },
  {
   "cell_type": "code",
   "execution_count": 49,
   "metadata": {
    "scrolled": true
   },
   "outputs": [],
   "source": [
    "x = x.reset_index().drop('index', axis = 1)"
   ]
  },
  {
   "cell_type": "code",
   "execution_count": 50,
   "metadata": {
    "scrolled": true
   },
   "outputs": [],
   "source": [
    "y_df = pd.DataFrame(y).reset_index().drop('index', axis = 1)"
   ]
  },
  {
   "cell_type": "code",
   "execution_count": 51,
   "metadata": {},
   "outputs": [],
   "source": [
    "pred_df = pd.DataFrame(pred, columns = ['prediction'])"
   ]
  },
  {
   "cell_type": "code",
   "execution_count": null,
   "metadata": {},
   "outputs": [],
   "source": []
  },
  {
   "cell_type": "code",
   "execution_count": 52,
   "metadata": {
    "scrolled": true
   },
   "outputs": [],
   "source": [
    "results_df = pd.concat([x, y_df, pred_df], axis = 1)\n",
    "results_df[['price', 'prediction']] = results_df[['price', 'prediction']].apply(np.exp)"
   ]
  },
  {
   "cell_type": "code",
   "execution_count": 53,
   "metadata": {
    "scrolled": true
   },
   "outputs": [
    {
     "data": {
      "text/html": [
       "<div>\n",
       "<style scoped>\n",
       "    .dataframe tbody tr th:only-of-type {\n",
       "        vertical-align: middle;\n",
       "    }\n",
       "\n",
       "    .dataframe tbody tr th {\n",
       "        vertical-align: top;\n",
       "    }\n",
       "\n",
       "    .dataframe thead th {\n",
       "        text-align: right;\n",
       "    }\n",
       "</style>\n",
       "<table border=\"1\" class=\"dataframe\">\n",
       "  <thead>\n",
       "    <tr style=\"text-align: right;\">\n",
       "      <th></th>\n",
       "      <th>make</th>\n",
       "      <th>fuel-type</th>\n",
       "      <th>aspiration</th>\n",
       "      <th>num-of-doors</th>\n",
       "      <th>body-style</th>\n",
       "      <th>drive-wheels</th>\n",
       "      <th>wheel-base</th>\n",
       "      <th>length</th>\n",
       "      <th>width</th>\n",
       "      <th>height</th>\n",
       "      <th>...</th>\n",
       "      <th>fuel-system</th>\n",
       "      <th>bore</th>\n",
       "      <th>stroke</th>\n",
       "      <th>compression-ratio</th>\n",
       "      <th>horsepower</th>\n",
       "      <th>peak-rpm</th>\n",
       "      <th>city-mpg</th>\n",
       "      <th>highway-mpg</th>\n",
       "      <th>price</th>\n",
       "      <th>prediction</th>\n",
       "    </tr>\n",
       "  </thead>\n",
       "  <tbody>\n",
       "    <tr>\n",
       "      <th>0</th>\n",
       "      <td>3</td>\n",
       "      <td>1</td>\n",
       "      <td>0</td>\n",
       "      <td>2</td>\n",
       "      <td>2</td>\n",
       "      <td>1</td>\n",
       "      <td>93.7</td>\n",
       "      <td>157.3</td>\n",
       "      <td>63.8</td>\n",
       "      <td>50.8</td>\n",
       "      <td>...</td>\n",
       "      <td>1</td>\n",
       "      <td>2.97</td>\n",
       "      <td>3.23</td>\n",
       "      <td>9.41</td>\n",
       "      <td>68</td>\n",
       "      <td>5500</td>\n",
       "      <td>37</td>\n",
       "      <td>41</td>\n",
       "      <td>5572.0</td>\n",
       "      <td>6482.549826</td>\n",
       "    </tr>\n",
       "    <tr>\n",
       "      <th>1</th>\n",
       "      <td>11</td>\n",
       "      <td>1</td>\n",
       "      <td>0</td>\n",
       "      <td>4</td>\n",
       "      <td>3</td>\n",
       "      <td>1</td>\n",
       "      <td>93.7</td>\n",
       "      <td>167.3</td>\n",
       "      <td>63.8</td>\n",
       "      <td>50.8</td>\n",
       "      <td>...</td>\n",
       "      <td>1</td>\n",
       "      <td>2.97</td>\n",
       "      <td>3.23</td>\n",
       "      <td>9.40</td>\n",
       "      <td>68</td>\n",
       "      <td>5500</td>\n",
       "      <td>31</td>\n",
       "      <td>38</td>\n",
       "      <td>6692.0</td>\n",
       "      <td>6798.426969</td>\n",
       "    </tr>\n",
       "    <tr>\n",
       "      <th>2</th>\n",
       "      <td>9</td>\n",
       "      <td>1</td>\n",
       "      <td>0</td>\n",
       "      <td>2</td>\n",
       "      <td>3</td>\n",
       "      <td>1</td>\n",
       "      <td>94.5</td>\n",
       "      <td>165.3</td>\n",
       "      <td>63.8</td>\n",
       "      <td>54.5</td>\n",
       "      <td>...</td>\n",
       "      <td>1</td>\n",
       "      <td>3.15</td>\n",
       "      <td>3.29</td>\n",
       "      <td>9.40</td>\n",
       "      <td>69</td>\n",
       "      <td>5200</td>\n",
       "      <td>31</td>\n",
       "      <td>37</td>\n",
       "      <td>7299.0</td>\n",
       "      <td>6445.570064</td>\n",
       "    </tr>\n",
       "    <tr>\n",
       "      <th>3</th>\n",
       "      <td>4</td>\n",
       "      <td>1</td>\n",
       "      <td>0</td>\n",
       "      <td>2</td>\n",
       "      <td>2</td>\n",
       "      <td>1</td>\n",
       "      <td>96.5</td>\n",
       "      <td>167.5</td>\n",
       "      <td>65.2</td>\n",
       "      <td>53.3</td>\n",
       "      <td>...</td>\n",
       "      <td>0</td>\n",
       "      <td>3.15</td>\n",
       "      <td>3.58</td>\n",
       "      <td>9.00</td>\n",
       "      <td>86</td>\n",
       "      <td>5800</td>\n",
       "      <td>27</td>\n",
       "      <td>33</td>\n",
       "      <td>7895.0</td>\n",
       "      <td>8052.163185</td>\n",
       "    </tr>\n",
       "    <tr>\n",
       "      <th>4</th>\n",
       "      <td>6</td>\n",
       "      <td>1</td>\n",
       "      <td>0</td>\n",
       "      <td>2</td>\n",
       "      <td>2</td>\n",
       "      <td>1</td>\n",
       "      <td>98.8</td>\n",
       "      <td>177.8</td>\n",
       "      <td>66.5</td>\n",
       "      <td>53.7</td>\n",
       "      <td>...</td>\n",
       "      <td>1</td>\n",
       "      <td>3.39</td>\n",
       "      <td>3.39</td>\n",
       "      <td>8.60</td>\n",
       "      <td>84</td>\n",
       "      <td>4800</td>\n",
       "      <td>26</td>\n",
       "      <td>32</td>\n",
       "      <td>8845.0</td>\n",
       "      <td>9353.048598</td>\n",
       "    </tr>\n",
       "    <tr>\n",
       "      <th>5</th>\n",
       "      <td>16</td>\n",
       "      <td>1</td>\n",
       "      <td>0</td>\n",
       "      <td>4</td>\n",
       "      <td>3</td>\n",
       "      <td>1</td>\n",
       "      <td>97.3</td>\n",
       "      <td>171.7</td>\n",
       "      <td>65.5</td>\n",
       "      <td>55.7</td>\n",
       "      <td>...</td>\n",
       "      <td>4</td>\n",
       "      <td>3.19</td>\n",
       "      <td>3.40</td>\n",
       "      <td>10.00</td>\n",
       "      <td>100</td>\n",
       "      <td>5500</td>\n",
       "      <td>26</td>\n",
       "      <td>32</td>\n",
       "      <td>9995.0</td>\n",
       "      <td>9549.034273</td>\n",
       "    </tr>\n",
       "    <tr>\n",
       "      <th>6</th>\n",
       "      <td>15</td>\n",
       "      <td>0</td>\n",
       "      <td>1</td>\n",
       "      <td>4</td>\n",
       "      <td>3</td>\n",
       "      <td>1</td>\n",
       "      <td>102.4</td>\n",
       "      <td>175.6</td>\n",
       "      <td>66.5</td>\n",
       "      <td>54.9</td>\n",
       "      <td>...</td>\n",
       "      <td>2</td>\n",
       "      <td>3.27</td>\n",
       "      <td>3.35</td>\n",
       "      <td>22.50</td>\n",
       "      <td>73</td>\n",
       "      <td>4500</td>\n",
       "      <td>30</td>\n",
       "      <td>33</td>\n",
       "      <td>10698.0</td>\n",
       "      <td>10223.277413</td>\n",
       "    </tr>\n",
       "    <tr>\n",
       "      <th>7</th>\n",
       "      <td>10</td>\n",
       "      <td>0</td>\n",
       "      <td>1</td>\n",
       "      <td>4</td>\n",
       "      <td>4</td>\n",
       "      <td>2</td>\n",
       "      <td>114.2</td>\n",
       "      <td>198.9</td>\n",
       "      <td>68.4</td>\n",
       "      <td>58.7</td>\n",
       "      <td>...</td>\n",
       "      <td>2</td>\n",
       "      <td>3.70</td>\n",
       "      <td>3.52</td>\n",
       "      <td>21.00</td>\n",
       "      <td>95</td>\n",
       "      <td>4150</td>\n",
       "      <td>25</td>\n",
       "      <td>25</td>\n",
       "      <td>13860.0</td>\n",
       "      <td>17904.262919</td>\n",
       "    </tr>\n",
       "    <tr>\n",
       "      <th>8</th>\n",
       "      <td>15</td>\n",
       "      <td>1</td>\n",
       "      <td>0</td>\n",
       "      <td>2</td>\n",
       "      <td>2</td>\n",
       "      <td>2</td>\n",
       "      <td>102.9</td>\n",
       "      <td>183.5</td>\n",
       "      <td>67.7</td>\n",
       "      <td>52.0</td>\n",
       "      <td>...</td>\n",
       "      <td>4</td>\n",
       "      <td>3.27</td>\n",
       "      <td>3.35</td>\n",
       "      <td>9.30</td>\n",
       "      <td>161</td>\n",
       "      <td>5200</td>\n",
       "      <td>19</td>\n",
       "      <td>24</td>\n",
       "      <td>15998.0</td>\n",
       "      <td>17688.085461</td>\n",
       "    </tr>\n",
       "  </tbody>\n",
       "</table>\n",
       "<p>9 rows × 24 columns</p>\n",
       "</div>"
      ],
      "text/plain": [
       "  make fuel-type aspiration num-of-doors body-style drive-wheels  wheel-base  \\\n",
       "0    3         1          0            2          2            1        93.7   \n",
       "1   11         1          0            4          3            1        93.7   \n",
       "2    9         1          0            2          3            1        94.5   \n",
       "3    4         1          0            2          2            1        96.5   \n",
       "4    6         1          0            2          2            1        98.8   \n",
       "5   16         1          0            4          3            1        97.3   \n",
       "6   15         0          1            4          3            1       102.4   \n",
       "7   10         0          1            4          4            2       114.2   \n",
       "8   15         1          0            2          2            2       102.9   \n",
       "\n",
       "   length  width  height  ...  fuel-system  bore stroke  compression-ratio  \\\n",
       "0   157.3   63.8    50.8  ...            1  2.97   3.23               9.41   \n",
       "1   167.3   63.8    50.8  ...            1  2.97   3.23               9.40   \n",
       "2   165.3   63.8    54.5  ...            1  3.15   3.29               9.40   \n",
       "3   167.5   65.2    53.3  ...            0  3.15   3.58               9.00   \n",
       "4   177.8   66.5    53.7  ...            1  3.39   3.39               8.60   \n",
       "5   171.7   65.5    55.7  ...            4  3.19   3.40              10.00   \n",
       "6   175.6   66.5    54.9  ...            2  3.27   3.35              22.50   \n",
       "7   198.9   68.4    58.7  ...            2  3.70   3.52              21.00   \n",
       "8   183.5   67.7    52.0  ...            4  3.27   3.35               9.30   \n",
       "\n",
       "  horsepower  peak-rpm  city-mpg  highway-mpg    price    prediction  \n",
       "0         68      5500        37           41   5572.0   6482.549826  \n",
       "1         68      5500        31           38   6692.0   6798.426969  \n",
       "2         69      5200        31           37   7299.0   6445.570064  \n",
       "3         86      5800        27           33   7895.0   8052.163185  \n",
       "4         84      4800        26           32   8845.0   9353.048598  \n",
       "5        100      5500        26           32   9995.0   9549.034273  \n",
       "6         73      4500        30           33  10698.0  10223.277413  \n",
       "7         95      4150        25           25  13860.0  17904.262919  \n",
       "8        161      5200        19           24  15998.0  17688.085461  \n",
       "\n",
       "[9 rows x 24 columns]"
      ]
     },
     "execution_count": 53,
     "metadata": {},
     "output_type": "execute_result"
    }
   ],
   "source": [
    "results_df"
   ]
  },
  {
   "cell_type": "code",
   "execution_count": 56,
   "metadata": {},
   "outputs": [
    {
     "name": "stdout",
     "output_type": "stream",
     "text": [
      "mae: 1021.1839121016837\n",
      "mse: 2387586.9306326085\n"
     ]
    }
   ],
   "source": [
    "metrics.mean_absolute_error(results_df['price'], results_df['prediction'])\n",
    "\n",
    "print('mae:', metrics.mean_absolute_error(results_df['price'], results_df['prediction']))\n",
    "print('mse:', metrics.mean_squared_error(results_df['price'], results_df['prediction']))\n",
    "metrics."
   ]
  },
  {
   "cell_type": "code",
   "execution_count": null,
   "metadata": {},
   "outputs": [],
   "source": []
  }
 ],
 "metadata": {
  "kernelspec": {
   "display_name": "Python 3",
   "language": "python",
   "name": "python3"
  },
  "language_info": {
   "codemirror_mode": {
    "name": "ipython",
    "version": 3
   },
   "file_extension": ".py",
   "mimetype": "text/x-python",
   "name": "python",
   "nbconvert_exporter": "python",
   "pygments_lexer": "ipython3",
   "version": "3.7.3"
  }
 },
 "nbformat": 4,
 "nbformat_minor": 2
}
